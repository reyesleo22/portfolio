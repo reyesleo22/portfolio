{
 "cells": [
  {
   "cell_type": "markdown",
   "metadata": {},
   "source": [
    "# Análisis del Comportamiento del Usuario\n",
    "\n",
    "Analizaremos el comportamiento de los usuarios dentro de la aplicación de una empresa emergente dedicada a la venta de productos alimenticios. El objetivo principal es estudiar cómo interactúan los usuarios con la aplicación y qué tan efectiva es en convertir visitas en compras.\n",
    "\n",
    "El analisis se divide en dos partes principales:\n",
    "\n",
    "1. **Análisis del embudo de ventas**: Se investigará cómo los usuarios avanzan a través de diferentes etapas de interacción dentro de la aplicación, identificando los puntos donde se pierden usuarios antes de llegar a la compra.\n",
    "\n",
    "2. **Análisis del experimento A/A/B**: Se evaluará un experimento donde los usuarios fueron divididos en tres grupos: dos grupos de control (con la fuente original) y un grupo experimental (con una fuente nueva). El propósito es determinar si el cambio en la fuente tiene un impacto significativo en el comportamiento del usuario.\n",
    "\n",
    "Se utilizará un solo conjunto de datos para ambos análisis. Este análisis será realizado de forma estructurada en un entorno Jupyter Notebook, donde cada paso incluirá una explicación previa, el código correspondiente y una breve conclusión.\n"
   ]
  },
  {
   "cell_type": "markdown",
   "metadata": {},
   "source": [
    "## Paso 1 – Carga de datos e inspección inicial\n",
    "\n",
    "En este paso, cargaremos el archivo de datos `logs_exp_us.csv` que contiene los registros de eventos de usuario dentro de la aplicación. El objetivo es asegurarnos de que los datos se cargan correctamente y obtener una primera impresión general del contenido del dataset.\n"
   ]
  },
  {
   "cell_type": "code",
   "execution_count": 1,
   "metadata": {
    "trusted": false
   },
   "outputs": [
    {
     "data": {
      "text/html": [
       "<div>\n",
       "<style scoped>\n",
       "    .dataframe tbody tr th:only-of-type {\n",
       "        vertical-align: middle;\n",
       "    }\n",
       "\n",
       "    .dataframe tbody tr th {\n",
       "        vertical-align: top;\n",
       "    }\n",
       "\n",
       "    .dataframe thead th {\n",
       "        text-align: right;\n",
       "    }\n",
       "</style>\n",
       "<table border=\"1\" class=\"dataframe\">\n",
       "  <thead>\n",
       "    <tr style=\"text-align: right;\">\n",
       "      <th></th>\n",
       "      <th>EventName</th>\n",
       "      <th>DeviceIDHash</th>\n",
       "      <th>EventTimestamp</th>\n",
       "      <th>ExpId</th>\n",
       "    </tr>\n",
       "  </thead>\n",
       "  <tbody>\n",
       "    <tr>\n",
       "      <th>0</th>\n",
       "      <td>MainScreenAppear</td>\n",
       "      <td>4575588528974610257</td>\n",
       "      <td>1564029816</td>\n",
       "      <td>246</td>\n",
       "    </tr>\n",
       "    <tr>\n",
       "      <th>1</th>\n",
       "      <td>MainScreenAppear</td>\n",
       "      <td>7416695313311560658</td>\n",
       "      <td>1564053102</td>\n",
       "      <td>246</td>\n",
       "    </tr>\n",
       "    <tr>\n",
       "      <th>2</th>\n",
       "      <td>PaymentScreenSuccessful</td>\n",
       "      <td>3518123091307005509</td>\n",
       "      <td>1564054127</td>\n",
       "      <td>248</td>\n",
       "    </tr>\n",
       "    <tr>\n",
       "      <th>3</th>\n",
       "      <td>CartScreenAppear</td>\n",
       "      <td>3518123091307005509</td>\n",
       "      <td>1564054127</td>\n",
       "      <td>248</td>\n",
       "    </tr>\n",
       "    <tr>\n",
       "      <th>4</th>\n",
       "      <td>PaymentScreenSuccessful</td>\n",
       "      <td>6217807653094995999</td>\n",
       "      <td>1564055322</td>\n",
       "      <td>248</td>\n",
       "    </tr>\n",
       "  </tbody>\n",
       "</table>\n",
       "</div>"
      ],
      "text/plain": [
       "                 EventName         DeviceIDHash  EventTimestamp  ExpId\n",
       "0         MainScreenAppear  4575588528974610257      1564029816    246\n",
       "1         MainScreenAppear  7416695313311560658      1564053102    246\n",
       "2  PaymentScreenSuccessful  3518123091307005509      1564054127    248\n",
       "3         CartScreenAppear  3518123091307005509      1564054127    248\n",
       "4  PaymentScreenSuccessful  6217807653094995999      1564055322    248"
      ]
     },
     "execution_count": 1,
     "metadata": {},
     "output_type": "execute_result"
    }
   ],
   "source": [
    "import pandas as pd\n",
    "import matplotlib.pyplot as plt\n",
    "from statsmodels.stats.proportion import proportions_ztest\n",
    "\n",
    "\n",
    "# Cargar el archivo usando el separador de tabulaciones\n",
    "df = pd.read_csv('/datasets/logs_exp_us.csv', sep='\\t', dtype={'timestamp': str})\n",
    "\n",
    "# Mostrar las primeras filas del dataframe\n",
    "df.head()\n"
   ]
  },
  {
   "cell_type": "markdown",
   "metadata": {},
   "source": [
    "### Conclusión del Paso 1\n",
    "\n",
    "Los datos se han cargado correctamente y podemos ver las primeras filas del conjunto de datos. A partir de esto, podemos observar que las columnas principales son `EventName`, `DeviceIDHash`, `EventTimestamp` y `ExpId`. En el siguiente paso, prepararemos estos datos para el análisis detallado.\n"
   ]
  },
  {
   "cell_type": "markdown",
   "metadata": {},
   "source": [
    "## Paso 2 – Preparación de los datos para el análisis\n",
    "\n",
    "En este paso, se preparan los datos para facilitar el análisis posterior. Esto incluye:\n",
    "- Renombrar las columnas para que sean más legibles.\n",
    "- Comprobar los tipos de datos y la existencia de valores nulos.\n",
    "- Convertir los datos de marca de tiempo a un formato de fecha legible.\n",
    "- Agregar columnas separadas para la fecha completa y la fecha sin hora.\n"
   ]
  },
  {
   "cell_type": "code",
   "execution_count": 2,
   "metadata": {
    "trusted": false
   },
   "outputs": [
    {
     "name": "stdout",
     "output_type": "stream",
     "text": [
      "<class 'pandas.core.frame.DataFrame'>\n",
      "RangeIndex: 244126 entries, 0 to 244125\n",
      "Data columns (total 5 columns):\n",
      " #   Column     Non-Null Count   Dtype         \n",
      "---  ------     --------------   -----         \n",
      " 0   event      244126 non-null  object        \n",
      " 1   user_id    244126 non-null  int64         \n",
      " 2   timestamp  244126 non-null  datetime64[ns]\n",
      " 3   group      244126 non-null  int64         \n",
      " 4   date       244126 non-null  object        \n",
      "dtypes: datetime64[ns](1), int64(2), object(2)\n",
      "memory usage: 9.3+ MB\n",
      "None\n"
     ]
    },
    {
     "data": {
      "text/html": [
       "<div>\n",
       "<style scoped>\n",
       "    .dataframe tbody tr th:only-of-type {\n",
       "        vertical-align: middle;\n",
       "    }\n",
       "\n",
       "    .dataframe tbody tr th {\n",
       "        vertical-align: top;\n",
       "    }\n",
       "\n",
       "    .dataframe thead th {\n",
       "        text-align: right;\n",
       "    }\n",
       "</style>\n",
       "<table border=\"1\" class=\"dataframe\">\n",
       "  <thead>\n",
       "    <tr style=\"text-align: right;\">\n",
       "      <th></th>\n",
       "      <th>event</th>\n",
       "      <th>user_id</th>\n",
       "      <th>timestamp</th>\n",
       "      <th>group</th>\n",
       "      <th>date</th>\n",
       "    </tr>\n",
       "  </thead>\n",
       "  <tbody>\n",
       "    <tr>\n",
       "      <th>0</th>\n",
       "      <td>MainScreenAppear</td>\n",
       "      <td>4575588528974610257</td>\n",
       "      <td>2019-07-25 04:43:36</td>\n",
       "      <td>246</td>\n",
       "      <td>2019-07-25</td>\n",
       "    </tr>\n",
       "    <tr>\n",
       "      <th>1</th>\n",
       "      <td>MainScreenAppear</td>\n",
       "      <td>7416695313311560658</td>\n",
       "      <td>2019-07-25 11:11:42</td>\n",
       "      <td>246</td>\n",
       "      <td>2019-07-25</td>\n",
       "    </tr>\n",
       "    <tr>\n",
       "      <th>2</th>\n",
       "      <td>PaymentScreenSuccessful</td>\n",
       "      <td>3518123091307005509</td>\n",
       "      <td>2019-07-25 11:28:47</td>\n",
       "      <td>248</td>\n",
       "      <td>2019-07-25</td>\n",
       "    </tr>\n",
       "    <tr>\n",
       "      <th>3</th>\n",
       "      <td>CartScreenAppear</td>\n",
       "      <td>3518123091307005509</td>\n",
       "      <td>2019-07-25 11:28:47</td>\n",
       "      <td>248</td>\n",
       "      <td>2019-07-25</td>\n",
       "    </tr>\n",
       "    <tr>\n",
       "      <th>4</th>\n",
       "      <td>PaymentScreenSuccessful</td>\n",
       "      <td>6217807653094995999</td>\n",
       "      <td>2019-07-25 11:48:42</td>\n",
       "      <td>248</td>\n",
       "      <td>2019-07-25</td>\n",
       "    </tr>\n",
       "  </tbody>\n",
       "</table>\n",
       "</div>"
      ],
      "text/plain": [
       "                     event              user_id           timestamp  group  \\\n",
       "0         MainScreenAppear  4575588528974610257 2019-07-25 04:43:36    246   \n",
       "1         MainScreenAppear  7416695313311560658 2019-07-25 11:11:42    246   \n",
       "2  PaymentScreenSuccessful  3518123091307005509 2019-07-25 11:28:47    248   \n",
       "3         CartScreenAppear  3518123091307005509 2019-07-25 11:28:47    248   \n",
       "4  PaymentScreenSuccessful  6217807653094995999 2019-07-25 11:48:42    248   \n",
       "\n",
       "         date  \n",
       "0  2019-07-25  \n",
       "1  2019-07-25  \n",
       "2  2019-07-25  \n",
       "3  2019-07-25  \n",
       "4  2019-07-25  "
      ]
     },
     "execution_count": 2,
     "metadata": {},
     "output_type": "execute_result"
    }
   ],
   "source": [
    "# Renombrar columnas\n",
    "df.columns = ['event', 'user_id', 'timestamp', 'group']\n",
    "\n",
    "# Convertir timestamp desde formato Unix (en segundos) a datetime\n",
    "df['timestamp'] = pd.to_datetime(df['timestamp'], unit='s')\n",
    "\n",
    "# Crear columna solo con la fecha\n",
    "df['date'] = df['timestamp'].dt.date\n",
    "\n",
    "# Verificar tipos y primeras filas\n",
    "print(df.info())\n",
    "df.head()\n",
    "\n"
   ]
  },
  {
   "cell_type": "markdown",
   "metadata": {},
   "source": [
    "### Conclusión del Paso 2\n",
    "\n",
    "La columna `timestamp` fue correctamente convertida desde el formato Unix en segundos a un tipo de dato `datetime`. También se creó la columna `date`, que contiene únicamente la fecha. Con esto, los datos están listos para el análisis temporal y del comportamiento de usuario.\n",
    "\n"
   ]
  },
  {
   "cell_type": "markdown",
   "metadata": {},
   "source": [
    "## Paso 3 – Estudio y comprobación general de los datos\n",
    "\n",
    "En este paso se realiza un análisis exploratorio para responder las siguientes preguntas:\n",
    "\n",
    "- ¿Cuántos eventos hay en total?\n",
    "- ¿Cuántos usuarios únicos se registran?\n",
    "- ¿Cuál es el promedio de eventos por usuario?\n"
   ]
  },
  {
   "cell_type": "code",
   "execution_count": 3,
   "metadata": {
    "trusted": false
   },
   "outputs": [
    {
     "name": "stdout",
     "output_type": "stream",
     "text": [
      "Total de eventos en los registros: 244126\n",
      "Total de usuarios únicos: 7551\n",
      "Promedio de eventos por usuario: 32.33\n"
     ]
    }
   ],
   "source": [
    "# ¿Cuántos eventos hay en los registros?\n",
    "total_eventos = df.shape[0]\n",
    "\n",
    "# ¿Cuántos usuarios hay en los registros?\n",
    "usuarios_unicos = df['user_id'].nunique()\n",
    "\n",
    "# ¿Cuál es el promedio de eventos por usuario?\n",
    "promedio_eventos_por_usuario = total_eventos / usuarios_unicos\n",
    "\n",
    "# Mostrar resultados\n",
    "print(f\"Total de eventos en los registros: {total_eventos}\")\n",
    "print(f\"Total de usuarios únicos: {usuarios_unicos}\")\n",
    "print(f\"Promedio de eventos por usuario: {promedio_eventos_por_usuario:.2f}\")\n"
   ]
  },
  {
   "cell_type": "markdown",
   "metadata": {},
   "source": [
    "### Paso 3 – Estudio y comprobación general de los datos (Parte 1)\n",
    "\n",
    "#### ¿Cuántos eventos hay en los registros?\n",
    "- Total de eventos: **244,126**\n",
    "\n",
    "#### ¿Cuántos usuarios hay en los registros?\n",
    "- Total de usuarios únicos: **7,551**\n",
    "\n",
    "#### ¿Cuál es el promedio de eventos por usuario?\n",
    "- Promedio: **32.33 eventos por usuario**"
   ]
  },
  {
   "cell_type": "markdown",
   "metadata": {},
   "source": [
    "### ¿Qué periodo de tiempo cubren los datos?\n",
    "\n"
   ]
  },
  {
   "cell_type": "code",
   "execution_count": 4,
   "metadata": {
    "trusted": false
   },
   "outputs": [
    {
     "name": "stdout",
     "output_type": "stream",
     "text": [
      "Fecha mínima en los datos: 2019-07-25 04:43:36\n",
      "Fecha máxima en los datos: 2019-08-07 21:15:17\n"
     ]
    }
   ],
   "source": [
    "# Obtener fecha mínima y máxima\n",
    "fecha_min = df['timestamp'].min()\n",
    "fecha_max = df['timestamp'].max()\n",
    "\n",
    "# Mostrar resultados\n",
    "print(f\"Fecha mínima en los datos: {fecha_min}\")\n",
    "print(f\"Fecha máxima en los datos: {fecha_max}\")"
   ]
  },
  {
   "cell_type": "markdown",
   "metadata": {},
   "source": [
    "El rango temporal de los eventos registrados en el dataset va desde el 25 de julio de 2019 hasta el 7 de agosto de 2019. Esto nos da un periodo de análisis de 14 días completos, lo cual es adecuado para estudiar el comportamiento de los usuarios dentro de un periodo limitado de actividad.\n"
   ]
  },
  {
   "cell_type": "markdown",
   "metadata": {},
   "source": [
    "### Histograma por fecha y hora\n",
    "\n",
    "Para evaluar si los datos están distribuidos de manera uniforme a lo largo del periodo registrado, se trazará un histograma de eventos por fecha. Esto permitirá identificar si hay días con menos actividad o posibles registros incompletos al inicio o al final del periodo.\n"
   ]
  },
  {
   "cell_type": "code",
   "execution_count": 5,
   "metadata": {
    "scrolled": true,
    "trusted": false
   },
   "outputs": [
    {
     "data": {
      "image/png": "[encoded data removed]",
      "text/plain": [
       "<Figure size 1200x500 with 1 Axes>"
      ]
     },
     "metadata": {},
     "output_type": "display_data"
    }
   ],
   "source": [
    "# Crear una nueva columna con solo la fecha (si no existe ya)\n",
    "df['date'] = df['timestamp'].dt.date\n",
    "\n",
    "# Contar eventos por día\n",
    "eventos_por_fecha = df.groupby('date').size()\n",
    "\n",
    "# Graficar histograma\n",
    "plt.figure(figsize=(12, 5))\n",
    "eventos_por_fecha.plot(kind='bar')\n",
    "plt.title('Cantidad de eventos por fecha')\n",
    "plt.xlabel('Fecha')\n",
    "plt.ylabel('Número de eventos')\n",
    "plt.xticks(rotation=45)\n",
    "plt.tight_layout()\n",
    "plt.show()\n"
   ]
  },
  {
   "cell_type": "markdown",
   "metadata": {},
   "source": [
    "### Conclusión del histograma por fecha\n",
    "\n",
    "El histograma muestra que los registros entre el **25 y el 30 de julio de 2019** tienen una cantidad muy baja de eventos, lo que sugiere que los datos de esos días son incompletos o residuales.\n",
    "\n",
    "A partir del **1 de agosto de 2019**, la actividad se vuelve estable y consistente, lo que indica que el sistema comenzó a registrar datos de forma completa en esa fecha. Por lo tanto, se recomienda ignorar los datos previos al 1 de agosto para evitar sesgos en el análisis.\n",
    "\n",
    "### Periodo confiable para análisis: **01/08/2019 al 07/08/2019**\n"
   ]
  },
  {
   "cell_type": "code",
   "execution_count": 6,
   "metadata": {
    "trusted": false
   },
   "outputs": [
    {
     "name": "stdout",
     "output_type": "stream",
     "text": [
      "Eventos después del 1 de agosto: 241298\n",
      "Usuarios únicos después del 1 de agosto: 7534\n",
      "Rango de fechas: 2019-08-01 00:07:28 a 2019-08-07 21:15:17\n"
     ]
    }
   ],
   "source": [
    "# Filtrar datos desde el 1 de agosto de 2019 en adelante\n",
    "fecha_inicio_valida = pd.to_datetime('2019-08-01')\n",
    "df_filtrado = df[df['timestamp'] >= fecha_inicio_valida]\n",
    "\n",
    "# Verificar tamaño y fechas resultantes\n",
    "print(f\"Eventos después del 1 de agosto: {df_filtrado.shape[0]}\")\n",
    "print(f\"Usuarios únicos después del 1 de agosto: {df_filtrado['user_id'].nunique()}\")\n",
    "print(f\"Rango de fechas: {df_filtrado['timestamp'].min()} a {df_filtrado['timestamp'].max()}\")\n"
   ]
  },
  {
   "cell_type": "markdown",
   "metadata": {},
   "source": [
    "### Evaluación de la pérdida de datos\n",
    "\n",
    "Se comparan los registros originales con los registros filtrados (a partir del 1 de agosto de 2019) para determinar si se ha perdido una cantidad significativa de eventos o usuarios al excluir los datos previos.\n"
   ]
  },
  {
   "cell_type": "code",
   "execution_count": 7,
   "metadata": {
    "trusted": false
   },
   "outputs": [
    {
     "name": "stdout",
     "output_type": "stream",
     "text": [
      "Eventos originales: 244126\n",
      "Eventos después del 1 de agosto: 241298\n",
      "Pérdida de eventos: 2828 (1.16%)\n",
      "\n",
      "Usuarios originales: 7551\n",
      "Usuarios después del 1 de agosto: 7534\n",
      "Pérdida de usuarios: 17 (0.23%)\n"
     ]
    }
   ],
   "source": [
    "# Datos originales\n",
    "total_eventos_original = 244126\n",
    "usuarios_unicos_original = 7551\n",
    "\n",
    "# Datos filtrados (ya obtenidos)\n",
    "total_eventos_filtrado = df_filtrado.shape[0]\n",
    "usuarios_unicos_filtrado = df_filtrado['user_id'].nunique()\n",
    "\n",
    "# Calcular la pérdida\n",
    "perdida_eventos = total_eventos_original - total_eventos_filtrado\n",
    "perdida_usuarios = usuarios_unicos_original - usuarios_unicos_filtrado\n",
    "\n",
    "# Calcular el porcentaje de pérdida\n",
    "porcentaje_perdida_eventos = perdida_eventos / total_eventos_original * 100\n",
    "porcentaje_perdida_usuarios = perdida_usuarios / usuarios_unicos_original * 100\n",
    "\n",
    "# Mostrar resultados\n",
    "print(f\"Eventos originales: {total_eventos_original}\")\n",
    "print(f\"Eventos después del 1 de agosto: {total_eventos_filtrado}\")\n",
    "print(f\"Pérdida de eventos: {perdida_eventos} ({porcentaje_perdida_eventos:.2f}%)\")\n",
    "print()\n",
    "print(f\"Usuarios originales: {usuarios_unicos_original}\")\n",
    "print(f\"Usuarios después del 1 de agosto: {usuarios_unicos_filtrado}\")\n",
    "print(f\"Pérdida de usuarios: {perdida_usuarios} ({porcentaje_perdida_usuarios:.2f}%)\")\n"
   ]
  },
  {
   "cell_type": "markdown",
   "metadata": {},
   "source": [
    "### Conclusión\n",
    "\n",
    "Al filtrar el dataset para incluir solo los eventos ocurridos desde el **1 de agosto de 2019**, se perdieron **2,828 eventos**, lo que representa aproximadamente **1.16%** del total. Además, se excluyeron **17 usuarios**, lo que equivale al **0.23%** del total de usuarios registrados.\n",
    "\n",
    "Dado que la pérdida de información es mínima, se puede continuar el análisis utilizando el dataset filtrado (`df_filtrado`). Esto asegura trabajar con datos completos y consistentes, eliminando el sesgo potencial generado por registros incompletos de los primeros días.\n"
   ]
  },
  {
   "cell_type": "markdown",
   "metadata": {},
   "source": [
    "### Verificar la presencia de los tres grupos experimentales\n",
    "\n",
    "Para asegurarnos de que el análisis del experimento A/A/B sea válido, debemos confirmar que los tres grupos (246, 247 y 248) están presentes en el periodo filtrado (del 1 al 7 de agosto de 2019). En este paso contaremos cuántos eventos hay en cada grupo.\n"
   ]
  },
  {
   "cell_type": "code",
   "execution_count": 8,
   "metadata": {
    "scrolled": true,
    "trusted": false
   },
   "outputs": [
    {
     "name": "stdout",
     "output_type": "stream",
     "text": [
      "Eventos por grupo experimental en el periodo del 1 al 7 de agosto:\n",
      "246    79425\n",
      "247    77147\n",
      "248    84726\n",
      "Name: group, dtype: int64\n"
     ]
    }
   ],
   "source": [
    "# Contar cuántos eventos hay por cada grupo experimental en el dataset filtrado\n",
    "\n",
    "# Agrupamos por la columna 'group' y contamos la cantidad de registros por grupo\n",
    "grupos_filtrados = df_filtrado['group'].value_counts().sort_index()\n",
    "\n",
    "# Mostramos los resultados\n",
    "print(\"Eventos por grupo experimental en el periodo del 1 al 7 de agosto:\")\n",
    "print(grupos_filtrados)"
   ]
  },
  {
   "cell_type": "markdown",
   "metadata": {},
   "source": [
    "### Conclusión\n",
    "\n",
    "Al analizar el periodo del 1 al 7 de agosto de 2019, se confirma la presencia de los tres grupos experimentales necesarios para evaluar el test A/A/B. La distribución de eventos por grupo es la siguiente:\n",
    "\n",
    "- Grupo 246: 79,425 eventos  \n",
    "- Grupo 247: 77,147 eventos  \n",
    "- Grupo 248: 84,726 eventos  \n",
    "\n",
    "Esta distribución equilibrada permite avanzar con confianza al análisis del embudo de eventos y del experimento sin sesgo en la segmentación.\n"
   ]
  },
  {
   "cell_type": "markdown",
   "metadata": {},
   "source": [
    "## Paso 4 – Análisis del embudo de eventos\n",
    "\n",
    "El objetivo de este paso es estudiar cómo se comportan los usuarios dentro de la aplicación, identificando cuántos realizan cada uno de los eventos registrados y en qué punto del proceso de conversión se pierde la mayoría.\n",
    "\n",
    "Se comenzará por:\n",
    "\n",
    "1. Mostrar los eventos únicos y su frecuencia total.\n",
    "2. Contar cuántos usuarios realizaron al menos una vez cada tipo de evento.\n",
    "3. Calcular el porcentaje de usuarios que participaron en cada evento en relación al total.\n"
   ]
  },
  {
   "cell_type": "code",
   "execution_count": 9,
   "metadata": {
    "trusted": false
   },
   "outputs": [
    {
     "name": "stdout",
     "output_type": "stream",
     "text": [
      "Eventos únicos y su frecuencia total:\n",
      "\n",
      "MainScreenAppear           117431\n",
      "OffersScreenAppear          46350\n",
      "CartScreenAppear            42365\n",
      "PaymentScreenSuccessful     34113\n",
      "Tutorial                     1039\n",
      "Name: event, dtype: int64\n",
      "\n",
      "Cantidad de usuarios que realizaron cada evento al menos una vez:\n",
      "\n",
      "event\n",
      "CartScreenAppear           3734\n",
      "MainScreenAppear           7419\n",
      "OffersScreenAppear         4593\n",
      "PaymentScreenSuccessful    3539\n",
      "Tutorial                    840\n",
      "Name: user_id, dtype: int64\n",
      "\n",
      "Proporción de usuarios que realizaron cada evento (%):\n",
      "\n",
      "event\n",
      "MainScreenAppear           98.473586\n",
      "OffersScreenAppear         60.963632\n",
      "CartScreenAppear           49.561986\n",
      "PaymentScreenSuccessful    46.973719\n",
      "Tutorial                   11.149456\n",
      "Name: user_id, dtype: float64\n"
     ]
    }
   ],
   "source": [
    "# Mostrar los eventos únicos y su frecuencia total\n",
    "print(\"Eventos únicos y su frecuencia total:\\n\")\n",
    "print(df_filtrado['event'].value_counts())\n",
    "\n",
    "# Contar cuántos usuarios realizaron cada evento al menos una vez\n",
    "print(\"\\nCantidad de usuarios que realizaron cada evento al menos una vez:\\n\")\n",
    "usuarios_por_evento = df_filtrado.groupby('event')['user_id'].nunique()\n",
    "print(usuarios_por_evento)\n",
    "\n",
    "# Calcular la proporción de usuarios que realizaron cada evento con respecto al total\n",
    "total_usuarios_filtrados = df_filtrado['user_id'].nunique()\n",
    "proporciones = (usuarios_por_evento / total_usuarios_filtrados) * 100\n",
    "\n",
    "print(\"\\nProporción de usuarios que realizaron cada evento (%):\\n\")\n",
    "print(proporciones.sort_values(ascending=False))\n"
   ]
  },
  {
   "cell_type": "markdown",
   "metadata": {},
   "source": [
    "### Conclusión – Frecuencia y participación por evento\n",
    "\n",
    "El análisis revela los siguientes patrones de comportamiento entre los usuarios durante el periodo del 1 al 7 de agosto de 2019:\n",
    "\n",
    "- El evento más común fue **MainScreenAppear**, con 117,431 registros, realizado por el **98.47%** de los usuarios.\n",
    "- Le siguen **OffersScreenAppear** (60.96%), **CartScreenAppear** (49.56%) y **PaymentScreenSuccessful** (46.97%), lo cual sugiere una progresión lógica en el embudo de conversión.\n",
    "- El evento **Tutorial** fue el menos común, con apenas un **11.15%** de participación, y parece no estar relacionado directamente con el proceso de compra principal.\n",
    "\n",
    "Estos datos indican que casi todos los usuarios entran a la pantalla principal, y aproximadamente la mitad de ellos llegan hasta el pago exitoso. El siguiente paso será calcular las tasas de conversión entre etapas para construir el embudo completo.\n"
   ]
  },
  {
   "cell_type": "markdown",
   "metadata": {},
   "source": [
    "### Construcción del embudo de conversión\n",
    "\n",
    "Ahora que conocemos cuántos usuarios realizaron cada evento, vamos a construir el embudo para entender cómo se van filtrando los usuarios a lo largo de las etapas de interacción.\n",
    "\n",
    "Para ello, calcularemos la proporción de usuarios que pasan de un evento al siguiente, utilizando la siguiente secuencia lógica basada en el flujo observado:\n",
    "\n",
    "1. `MainScreenAppear` → 2. `OffersScreenAppear` → 3. `CartScreenAppear` → 4. `PaymentScreenSuccessful`\n",
    "\n",
    "En cada paso, compararemos la cantidad de usuarios que realizaron un evento con respecto al evento anterior.\n"
   ]
  },
  {
   "cell_type": "code",
   "execution_count": 10,
   "metadata": {
    "trusted": false
   },
   "outputs": [
    {
     "name": "stdout",
     "output_type": "stream",
     "text": [
      "Usuarios que pasaron de MainScreen a OffersScreen: 61.91%\n",
      "Usuarios que pasaron de OffersScreen a CartScreen: 81.30%\n",
      "Usuarios que pasaron de CartScreen a PaymentSuccessful: 94.78%\n"
     ]
    }
   ],
   "source": [
    "# Obtener el número de usuarios únicos por evento\n",
    "usuarios_por_evento = df_filtrado.groupby('event')['user_id'].nunique()\n",
    "\n",
    "# Asignar eventos en orden del embudo\n",
    "main = usuarios_por_evento['MainScreenAppear']\n",
    "offers = usuarios_por_evento['OffersScreenAppear']\n",
    "cart = usuarios_por_evento['CartScreenAppear']\n",
    "payment = usuarios_por_evento['PaymentScreenSuccessful']\n",
    "\n",
    "# Calcular tasas de conversión entre etapas\n",
    "conversion_offers = offers / main * 100\n",
    "conversion_cart = cart / offers * 100\n",
    "conversion_payment = payment / cart * 100\n",
    "\n",
    "# Mostrar resultados\n",
    "print(f\"Usuarios que pasaron de MainScreen a OffersScreen: {conversion_offers:.2f}%\")\n",
    "print(f\"Usuarios que pasaron de OffersScreen a CartScreen: {conversion_cart:.2f}%\")\n",
    "print(f\"Usuarios que pasaron de CartScreen a PaymentSuccessful: {conversion_payment:.2f}%\")\n"
   ]
  },
  {
   "cell_type": "markdown",
   "metadata": {},
   "source": [
    "### Conclusión – Embudo de conversión entre etapas\n",
    "\n",
    "El análisis del embudo de conversión muestra lo siguiente:\n",
    "\n",
    "1. **61.91%** de los usuarios que llegaron a la pantalla principal (`MainScreenAppear`) también visitaron la pantalla de ofertas (`OffersScreenAppear`).\n",
    "2. De ellos, **81.30%** accedieron al carrito (`CartScreenAppear`), lo que indica un fuerte interés en los productos.\n",
    "3. Finalmente, **94.78%** de quienes vieron el carrito completaron una compra exitosa (`PaymentScreenSuccessful`), lo cual representa una tasa de conversión final muy alta en la última etapa.\n",
    "\n",
    "Esto indica que el mayor punto de pérdida de usuarios ocurre justo después de la pantalla principal, cuando muchos no continúan explorando las ofertas. Sin embargo, una vez que los usuarios ingresan al carrito, hay una alta probabilidad de que finalicen la compra.\n"
   ]
  },
  {
   "cell_type": "code",
   "execution_count": 11,
   "metadata": {
    "trusted": false
   },
   "outputs": [
    {
     "data": {
      "image/png": "[encoded data removed]",
      "text/plain": [
       "<Figure size 1000x600 with 1 Axes>"
      ]
     },
     "metadata": {},
     "output_type": "display_data"
    }
   ],
   "source": [
    "# Valores absolutos del embudo\n",
    "etapas = ['MainScreenAppear', 'OffersScreenAppear', 'CartScreenAppear', 'PaymentScreenSuccessful']\n",
    "usuarios = [\n",
    "    df_filtrado[df_filtrado['event'] == 'MainScreenAppear']['user_id'].nunique(),\n",
    "    df_filtrado[df_filtrado['event'] == 'OffersScreenAppear']['user_id'].nunique(),\n",
    "    df_filtrado[df_filtrado['event'] == 'CartScreenAppear']['user_id'].nunique(),\n",
    "    df_filtrado[df_filtrado['event'] == 'PaymentScreenSuccessful']['user_id'].nunique()\n",
    "]\n",
    "\n",
    "# Crear gráfica de embudo (gráfico de barras horizontales)\n",
    "plt.figure(figsize=(10, 6))\n",
    "plt.barh(etapas[::-1], usuarios[::-1], color='skyblue')  # Invertimos para que vaya de arriba hacia abajo\n",
    "plt.xlabel('Usuarios únicos')\n",
    "plt.title('Embudo de conversión de eventos')\n",
    "plt.tight_layout()\n",
    "plt.show()"
   ]
  },
  {
   "cell_type": "markdown",
   "metadata": {},
   "source": [
    "## Paso 5 – Análisis del experimento A/A/B\n",
    "\n",
    "En este paso se analizarán los resultados del experimento A/A/B realizado sobre los usuarios de la aplicación. El objetivo es evaluar si el cambio de tipografía propuesto (grupo 248) tuvo un impacto significativo en el comportamiento de los usuarios.\n",
    "\n",
    "Los usuarios fueron divididos aleatoriamente en tres grupos:\n",
    "\n",
    "- **Grupo 246 y Grupo 247**: grupos de control (misma fuente original).\n",
    "- **Grupo 248**: grupo experimental (fuente nueva).\n",
    "\n",
    "Este tipo de prueba incluye dos grupos A (control) para verificar que cualquier diferencia entre ellos sea estadísticamente insignificante, asegurando así que el experimento está correctamente diseñado. Si los dos grupos de control son similares, entonces cualquier diferencia entre los grupos A y B se puede atribuir al cambio de fuente.\n",
    "\n",
    "En esta primera parte del paso 5, analizaremos:\n",
    "\n",
    "- Cuántos usuarios hay en cada grupo.\n",
    "- Si hay diferencias en comportamiento (eventos) entre los dos grupos de control (246 y 247).\n",
    "\n",
    "Este análisis se hará exclusivamente con los datos del periodo confiable: del 1 al 7 de agosto de 2019.\n"
   ]
  },
  {
   "cell_type": "code",
   "execution_count": 12,
   "metadata": {
    "trusted": false
   },
   "outputs": [
    {
     "name": "stdout",
     "output_type": "stream",
     "text": [
      "Usuarios únicos por grupo experimental (del 1 al 7 de agosto):\n",
      "group\n",
      "246    2484\n",
      "247    2513\n",
      "248    2537\n",
      "Name: user_id, dtype: int64\n"
     ]
    }
   ],
   "source": [
    "# Contar cuántos usuarios únicos hay en cada grupo experimental\n",
    "\n",
    "# Agrupamos por 'group' y usamos nunique para contar usuarios únicos\n",
    "usuarios_por_grupo = df_filtrado.groupby('group')['user_id'].nunique().sort_index()\n",
    "\n",
    "# Mostramos los resultados\n",
    "print(\"Usuarios únicos por grupo experimental (del 1 al 7 de agosto):\")\n",
    "print(usuarios_por_grupo)\n"
   ]
  },
  {
   "cell_type": "markdown",
   "metadata": {},
   "source": [
    "### Conclusión – Usuarios por grupo experimental\n",
    "\n",
    "Durante el periodo del 1 al 7 de agosto de 2019, la cantidad de usuarios únicos en cada grupo fue la siguiente:\n",
    "\n",
    "- Grupo 246 (control): 2,484 usuarios  \n",
    "- Grupo 247 (control): 2,513 usuarios  \n",
    "- Grupo 248 (experimental): 2,537 usuarios\n",
    "\n",
    "La distribución entre los tres grupos es bastante equilibrada, lo que permite continuar con el análisis comparativo sin preocupaciones por sesgos en la asignación de usuarios.\n"
   ]
  },
  {
   "cell_type": "markdown",
   "metadata": {},
   "source": [
    "### Comparación entre los grupos de control (246 vs 247)\n",
    "\n",
    "Antes de analizar el grupo experimental, es fundamental asegurarnos de que los dos grupos de control (246 y 247) se comportan de manera similar. Si hay diferencias significativas entre ellos, podría indicar problemas en la segmentación del experimento.\n",
    "\n",
    "En este paso se calculará la proporción de usuarios de cada grupo que realizaron cada tipo de evento. Luego, se aplicará una prueba estadística para determinar si estas diferencias son estadísticamente significativas.\n"
   ]
  },
  {
   "cell_type": "code",
   "execution_count": 13,
   "metadata": {
    "trusted": false
   },
   "outputs": [
    {
     "name": "stdout",
     "output_type": "stream",
     "text": [
      "\n",
      "Evento: Tutorial\n",
      "group\n",
      "246    11.191626\n",
      "247    11.261441\n",
      "Name: user_id, dtype: float64\n",
      "\n",
      "Evento: MainScreenAppear\n",
      "group\n",
      "246    98.631240\n",
      "247    98.527656\n",
      "Name: user_id, dtype: float64\n",
      "\n",
      "Evento: OffersScreenAppear\n",
      "group\n",
      "246    62.077295\n",
      "247    60.485476\n",
      "Name: user_id, dtype: float64\n",
      "\n",
      "Evento: CartScreenAppear\n",
      "group\n",
      "246    50.966184\n",
      "247    49.263828\n",
      "Name: user_id, dtype: float64\n",
      "\n",
      "Evento: PaymentScreenSuccessful\n",
      "group\n",
      "246    48.309179\n",
      "247    46.080382\n",
      "Name: user_id, dtype: float64\n"
     ]
    }
   ],
   "source": [
    "# Filtrar solo los grupos de control (246 y 247)\n",
    "control_df = df_filtrado[df_filtrado['group'].isin([246, 247])]\n",
    "\n",
    "# Obtener usuarios únicos por grupo\n",
    "usuarios_por_grupo_control = control_df.groupby('group')['user_id'].nunique()\n",
    "\n",
    "# Calcular proporción de usuarios por evento en cada grupo\n",
    "eventos = df_filtrado['event'].unique()\n",
    "\n",
    "# Crear estructura para guardar proporciones\n",
    "proporciones_control = {}\n",
    "\n",
    "for evento in eventos:\n",
    "    datos_evento = control_df[control_df['event'] == evento]\n",
    "    usuarios_evento = datos_evento.groupby('group')['user_id'].nunique()\n",
    "    \n",
    "    proporciones = (usuarios_evento / usuarios_por_grupo_control) * 100\n",
    "    proporciones_control[evento] = proporciones\n",
    "\n",
    "# Mostrar proporciones por evento para cada grupo\n",
    "for evento, proporciones in proporciones_control.items():\n",
    "    print(f\"\\nEvento: {evento}\")\n",
    "    print(proporciones)\n"
   ]
  },
  {
   "cell_type": "markdown",
   "metadata": {},
   "source": [
    "### Conclusión – Comparación de proporciones entre grupos de control (246 vs 247)\n",
    "\n",
    "Al comparar los grupos de control en términos de la proporción de usuarios que realizaron cada evento, se obtuvieron resultados muy similares:\n",
    "\n",
    "- **Tutorial**: 11.19% (grupo 246) vs 11.26% (grupo 247)\n",
    "- **MainScreenAppear**: 98.63% vs 98.53%\n",
    "- **OffersScreenAppear**: 62.08% vs 60.49%\n",
    "- **CartScreenAppear**: 50.97% vs 49.26%\n",
    "- **PaymentScreenSuccessful**: 48.31% vs 46.08%\n",
    "\n",
    "Estas diferencias son pequeñas, lo que sugiere que el comportamiento de ambos grupos es coherente. Sin embargo, para confirmar que las diferencias no son estadísticamente significativas, se aplicará una prueba de hipótesis.\n"
   ]
  },
  {
   "cell_type": "markdown",
   "metadata": {},
   "source": [
    "### Pruebas de hipótesis entre grupos de control (246 vs 247)\n",
    "\n",
    "Para confirmar si las diferencias observadas entre los grupos de control son estadísticamente significativas, aplicaremos una **prueba de hipótesis para dos proporciones (Z-test)** en cada evento.\n",
    "\n",
    "Hipótesis nula (H₀): No hay diferencia significativa en la proporción de usuarios entre los grupos 246 y 247 para el evento.  \n",
    "Hipótesis alternativa (H₁): Hay una diferencia significativa.\n",
    "\n",
    "El nivel de significancia será **α = 0.05**.\n"
   ]
  },
  {
   "cell_type": "code",
   "execution_count": 14,
   "metadata": {
    "trusted": false
   },
   "outputs": [
    {
     "name": "stdout",
     "output_type": "stream",
     "text": [
      "Pruebas Z de dos proporciones (grupo 246 vs 247):\n",
      "\n",
      "MainScreenAppear: p-valor = 0.7571 → No significativo\n",
      "OffersScreenAppear: p-valor = 0.2481 → No significativo\n",
      "CartScreenAppear: p-valor = 0.2288 → No significativo\n",
      "PaymentScreenSuccessful: p-valor = 0.1146 → No significativo\n",
      "Tutorial: p-valor = 0.9377 → No significativo\n"
     ]
    }
   ],
   "source": [
    "\n",
    "# Definir eventos a evaluar\n",
    "eventos = ['MainScreenAppear', 'OffersScreenAppear', 'CartScreenAppear', 'PaymentScreenSuccessful', 'Tutorial']\n",
    "\n",
    "# Obtener usuarios por grupo\n",
    "usuarios_246 = control_df[control_df['group'] == 246]['user_id'].nunique()\n",
    "usuarios_247 = control_df[control_df['group'] == 247]['user_id'].nunique()\n",
    "\n",
    "# Evaluar cada evento\n",
    "print(\"Pruebas Z de dos proporciones (grupo 246 vs 247):\\n\")\n",
    "\n",
    "for evento in eventos:\n",
    "    # Contar usuarios por grupo que realizaron el evento\n",
    "    usuarios_evento_246 = control_df[(control_df['group'] == 246) & (control_df['event'] == evento)]['user_id'].nunique()\n",
    "    usuarios_evento_247 = control_df[(control_df['group'] == 247) & (control_df['event'] == evento)]['user_id'].nunique()\n",
    "    \n",
    "    # Números de éxitos (usuarios que realizaron el evento) y tamaños de muestra\n",
    "    successes = [usuarios_evento_246, usuarios_evento_247]\n",
    "    samples = [usuarios_246, usuarios_247]\n",
    "    \n",
    "    # Prueba Z\n",
    "    stat, pval = proportions_ztest(successes, samples)\n",
    "    \n",
    "    print(f\"{evento}: p-valor = {pval:.4f} → {'Significativo' if pval < 0.05 else 'No significativo'}\")\n"
   ]
  },
  {
   "cell_type": "markdown",
   "metadata": {},
   "source": [
    "### Conclusión – Pruebas estadísticas entre grupos de control (246 vs 247)\n",
    "\n",
    "Se aplicó una prueba Z de dos proporciones para comparar los grupos de control en relación con la participación de usuarios en cada tipo de evento. Los resultados fueron:\n",
    "\n",
    "- **MainScreenAppear**: p = 0.7571 → No significativo\n",
    "- **OffersScreenAppear**: p = 0.2481 → No significativo\n",
    "- **CartScreenAppear**: p = 0.2288 → No significativo\n",
    "- **PaymentScreenSuccessful**: p = 0.1146 → No significativo\n",
    "- **Tutorial**: p = 0.9377 → No significativo\n",
    "\n",
    "Dado que en todos los casos los p-valores son superiores al umbral de significancia (0.05), no se encontraron diferencias estadísticamente significativas entre los grupos 246 y 247. Esto confirma que los grupos de control fueron bien segmentados y que se puede confiar en la validez del experimento A/A/B.\n"
   ]
  },
  {
   "cell_type": "markdown",
   "metadata": {},
   "source": [
    "### Comparación del grupo experimental (248) con los grupos de control\n",
    "\n",
    "Ahora que hemos validado que los grupos de control (246 y 247) se comportan de forma similar, vamos a comparar el **grupo experimental 248**, que recibió una fuente nueva, con:\n",
    "\n",
    "- El grupo 246 (control individual)\n",
    "- El grupo 247 (control individual)\n",
    "- Ambos grupos de control combinados\n",
    "\n",
    "Se calculará la proporción de usuarios que realizaron cada evento y se aplicará una prueba de hipótesis (Z-test) para determinar si existen diferencias estadísticamente significativas.\n"
   ]
  },
  {
   "cell_type": "code",
   "execution_count": 15,
   "metadata": {
    "trusted": false
   },
   "outputs": [
    {
     "name": "stdout",
     "output_type": "stream",
     "text": [
      "Comparación Grupo 248 vs Grupo 246\n",
      "\n",
      "MainScreenAppear: p-valor = 0.2950 → No significativo\n",
      "OffersScreenAppear: p-valor = 0.2084 → No significativo\n",
      "CartScreenAppear: p-valor = 0.0784 → No significativo\n",
      "PaymentScreenSuccessful: p-valor = 0.2123 → No significativo\n",
      "Tutorial: p-valor = 0.8264 → No significativo\n",
      "\n",
      "Comparación Grupo 248 vs Grupo 247\n",
      "\n",
      "MainScreenAppear: p-valor = 0.4587 → No significativo\n",
      "OffersScreenAppear: p-valor = 0.9198 → No significativo\n",
      "CartScreenAppear: p-valor = 0.5786 → No significativo\n",
      "PaymentScreenSuccessful: p-valor = 0.7373 → No significativo\n",
      "Tutorial: p-valor = 0.7653 → No significativo\n",
      "\n",
      "Comparación Grupo 248 vs Control Combinado (246 + 247)\n",
      "\n",
      "MainScreenAppear: p-valor = 0.2942 → No significativo\n",
      "OffersScreenAppear: p-valor = 0.4343 → No significativo\n",
      "CartScreenAppear: p-valor = 0.1818 → No significativo\n",
      "PaymentScreenSuccessful: p-valor = 0.6004 → No significativo\n",
      "Tutorial: p-valor = 0.7649 → No significativo\n"
     ]
    }
   ],
   "source": [
    "# Obtener usuarios únicos del grupo experimental\n",
    "usuarios_248 = df_filtrado[df_filtrado['group'] == 248]['user_id'].nunique()\n",
    "\n",
    "# Evaluar los mismos eventos que antes\n",
    "eventos = ['MainScreenAppear', 'OffersScreenAppear', 'CartScreenAppear', 'PaymentScreenSuccessful', 'Tutorial']\n",
    "\n",
    "# Comparación entre grupo 248 y grupo 246\n",
    "print(\"Comparación Grupo 248 vs Grupo 246\\n\")\n",
    "for evento in eventos:\n",
    "    u_248 = df_filtrado[(df_filtrado['group'] == 248) & (df_filtrado['event'] == evento)]['user_id'].nunique()\n",
    "    u_246 = df_filtrado[(df_filtrado['group'] == 246) & (df_filtrado['event'] == evento)]['user_id'].nunique()\n",
    "    \n",
    "    successes = [u_248, u_246]\n",
    "    samples = [usuarios_248, usuarios_246]\n",
    "    \n",
    "    stat, pval = proportions_ztest(successes, samples)\n",
    "    print(f\"{evento}: p-valor = {pval:.4f} → {'Significativo' if pval < 0.05 else 'No significativo'}\")\n",
    "\n",
    "# Comparación entre grupo 248 y grupo 247\n",
    "print(\"\\nComparación Grupo 248 vs Grupo 247\\n\")\n",
    "for evento in eventos:\n",
    "    u_248 = df_filtrado[(df_filtrado['group'] == 248) & (df_filtrado['event'] == evento)]['user_id'].nunique()\n",
    "    u_247 = df_filtrado[(df_filtrado['group'] == 247) & (df_filtrado['event'] == evento)]['user_id'].nunique()\n",
    "    \n",
    "    successes = [u_248, u_247]\n",
    "    samples = [usuarios_248, usuarios_247]\n",
    "    \n",
    "    stat, pval = proportions_ztest(successes, samples)\n",
    "    print(f\"{evento}: p-valor = {pval:.4f} → {'Significativo' if pval < 0.05 else 'No significativo'}\")\n",
    "\n",
    "# Comparación entre grupo 248 y grupos 246+247 combinados\n",
    "print(\"\\nComparación Grupo 248 vs Control Combinado (246 + 247)\\n\")\n",
    "\n",
    "# Usuarios únicos combinados y por evento\n",
    "usuarios_control = usuarios_246 + usuarios_247\n",
    "\n",
    "for evento in eventos:\n",
    "    u_248 = df_filtrado[(df_filtrado['group'] == 248) & (df_filtrado['event'] == evento)]['user_id'].nunique()\n",
    "    u_246 = df_filtrado[(df_filtrado['group'] == 246) & (df_filtrado['event'] == evento)]['user_id'].nunique()\n",
    "    u_247 = df_filtrado[(df_filtrado['group'] == 247) & (df_filtrado['event'] == evento)]['user_id'].nunique()\n",
    "    \n",
    "    u_control = u_246 + u_247\n",
    "    \n",
    "    successes = [u_248, u_control]\n",
    "    samples = [usuarios_248, usuarios_control]\n",
    "    \n",
    "    stat, pval = proportions_ztest(successes, samples)\n",
    "    print(f\"{evento}: p-valor = {pval:.4f} → {'Significativo' if pval < 0.05 else 'No significativo'}\")\n"
   ]
  },
  {
   "cell_type": "markdown",
   "metadata": {},
   "source": [
    "### Conclusión – Comparación del grupo experimental (248) con los grupos de control\n",
    "\n",
    "Se realizaron pruebas Z de dos proporciones para comparar la proporción de usuarios que realizaron cada evento entre el grupo experimental (248) y los grupos de control (246 y 247), tanto individualmente como combinados.\n",
    "\n",
    "En todos los casos, los **p-valores fueron superiores a 0.05**, por lo tanto **no se encontró evidencia estadística suficiente para rechazar la hipótesis nula**. Esto implica que **no hay diferencias significativas** entre los grupos.\n",
    "\n",
    "#### Resultados por evento:\n",
    "\n",
    "| Evento                  | 248 vs 246 | 248 vs 247 | 248 vs (246+247) |\n",
    "|-------------------------|------------|------------|------------------|\n",
    "| MainScreenAppear        | 0.2950     | 0.4587     | 0.2942           |\n",
    "| OffersScreenAppear      | 0.2084     | 0.9198     | 0.4343           |\n",
    "| CartScreenAppear        | 0.0784     | 0.5786     | 0.1818           |\n",
    "| PaymentScreenSuccessful | 0.2123     | 0.7373     | 0.6004           |\n",
    "| Tutorial                | 0.8264     | 0.7653     | 0.7649           |\n",
    "\n",
    "### Conclusión \n",
    "\n",
    "El cambio de fuente no tuvo un efecto estadísticamente significativo en el comportamiento de los usuarios dentro de la aplicación. Por lo tanto, no hay evidencia para afirmar que la nueva fuente afecte negativamente (ni positivamente) la interacción de los usuarios.\n"
   ]
  },
  {
   "cell_type": "markdown",
   "metadata": {},
   "source": [
    "## Conclusión General del Análisis\n",
    "\n",
    "A lo largo del análisis del comportamiento de usuarios en la aplicación, se abordaron dos objetivos principales: el estudio del embudo de ventas y la evaluación del experimento A/A/B sobre el cambio de fuente.\n",
    "\n",
    "### 1. Análisis del embudo de eventos\n",
    "\n",
    "- Se identificó una secuencia lógica de eventos desde la pantalla principal hasta la compra.\n",
    "- El embudo mostró que el **98%** de los usuarios llegan a la pantalla principal, pero solo un **46.97%** completan una compra.\n",
    "- La mayor pérdida de usuarios ocurre entre la pantalla principal y la de ofertas.\n",
    "- Una vez que el usuario llega al carrito, la conversión a compra es alta (**94.78%**), lo cual indica que los usuarios con intención de compra completan el proceso con éxito.\n",
    "\n",
    "### 2. Evaluación del experimento A/A/B\n",
    "\n",
    "- Se validó que los grupos de control (246 y 247) no presentan diferencias significativas, lo que confirma la integridad del diseño experimental.\n",
    "- Al comparar el grupo experimental (248) con los controles, **no se encontraron diferencias estadísticamente significativas** en ninguna de las métricas evaluadas.\n",
    "- Esto sugiere que el cambio de fuente no afecta de manera relevante la interacción de los usuarios con la aplicación.\n",
    "\n",
    "### Conclusión Final\n",
    "\n",
    "El embudo de conversión es funcional y eficiente a partir del momento en que el usuario agrega productos al carrito. El experimento A/A/B indica que el cambio de fuente no representa un riesgo para la experiencia del usuario, por lo que podría implementarse sin afectar negativamente el comportamiento dentro de la app.\n"
   ]
  }
 ],
 "metadata": {
  "ExecuteTimeLog": [
   {
    "duration": 799,
    "start_time": "2025-04-01T02:48:55.263Z"
   },
   {
    "duration": 132,
    "start_time": "2025-04-01T02:49:20.704Z"
   },
   {
    "duration": 93,
    "start_time": "2025-04-01T02:50:21.634Z"
   },
   {
    "duration": 306,
    "start_time": "2025-04-01T02:51:41.560Z"
   },
   {
    "duration": 424,
    "start_time": "2025-04-01T02:52:11.025Z"
   },
   {
    "duration": 81,
    "start_time": "2025-04-01T02:52:11.451Z"
   },
   {
    "duration": 5,
    "start_time": "2025-04-01T02:53:06.311Z"
   },
   {
    "duration": 520,
    "start_time": "2025-04-01T02:53:32.359Z"
   },
   {
    "duration": 5,
    "start_time": "2025-04-01T02:53:44.159Z"
   },
   {
    "duration": 296,
    "start_time": "2025-04-01T02:54:13.288Z"
   },
   {
    "duration": 389,
    "start_time": "2025-04-01T02:54:30.165Z"
   },
   {
    "duration": 461,
    "start_time": "2025-04-01T02:54:30.555Z"
   },
   {
    "duration": 72,
    "start_time": "2025-04-01T02:55:22.365Z"
   },
   {
    "duration": 330,
    "start_time": "2025-04-01T02:57:12.715Z"
   },
   {
    "duration": 424,
    "start_time": "2025-04-01T02:57:17.375Z"
   },
   {
    "duration": 549,
    "start_time": "2025-04-01T02:57:17.801Z"
   },
   {
    "duration": 428,
    "start_time": "2025-04-01T02:57:58.065Z"
   },
   {
    "duration": 122,
    "start_time": "2025-04-01T02:57:58.495Z"
   },
   {
    "duration": 514,
    "start_time": "2025-04-01T02:59:18.784Z"
   },
   {
    "duration": 396,
    "start_time": "2025-04-01T02:59:24.909Z"
   },
   {
    "duration": 93,
    "start_time": "2025-04-01T02:59:25.309Z"
   },
   {
    "duration": 518,
    "start_time": "2025-04-01T03:02:25.043Z"
   },
   {
    "duration": 418,
    "start_time": "2025-04-01T03:02:29.436Z"
   },
   {
    "duration": 28,
    "start_time": "2025-04-01T03:02:29.856Z"
   },
   {
    "duration": 14,
    "start_time": "2025-04-01T03:05:23.969Z"
   },
   {
    "duration": 400,
    "start_time": "2025-04-01T03:22:46.754Z"
   },
   {
    "duration": 133,
    "start_time": "2025-04-01T03:22:47.156Z"
   },
   {
    "duration": 21,
    "start_time": "2025-04-01T03:22:47.291Z"
   },
   {
    "duration": 378,
    "start_time": "2025-04-01T03:25:15.997Z"
   },
   {
    "duration": 81,
    "start_time": "2025-04-01T03:25:16.377Z"
   },
   {
    "duration": 12,
    "start_time": "2025-04-01T03:25:16.460Z"
   },
   {
    "duration": 8,
    "start_time": "2025-04-01T03:28:37.966Z"
   },
   {
    "duration": 5,
    "start_time": "2025-04-01T03:30:13.838Z"
   },
   {
    "duration": 2233,
    "start_time": "2025-04-01T03:32:41.421Z"
   },
   {
    "duration": 77,
    "start_time": "2025-04-01T03:32:43.657Z"
   },
   {
    "duration": 9,
    "start_time": "2025-04-01T03:32:43.736Z"
   },
   {
    "duration": 4,
    "start_time": "2025-04-01T03:32:43.747Z"
   },
   {
    "duration": 360,
    "start_time": "2025-04-01T03:32:43.753Z"
   },
   {
    "duration": 26,
    "start_time": "2025-04-01T03:34:17.263Z"
   },
   {
    "duration": 7,
    "start_time": "2025-04-01T03:35:06.049Z"
   },
   {
    "duration": 5,
    "start_time": "2025-04-01T03:38:01.308Z"
   },
   {
    "duration": 73,
    "start_time": "2025-04-01T03:38:51.878Z"
   },
   {
    "duration": 35,
    "start_time": "2025-04-01T03:40:11.580Z"
   },
   {
    "duration": 252,
    "start_time": "2025-04-01T03:41:21.022Z"
   },
   {
    "duration": 22,
    "start_time": "2025-04-01T03:42:09.894Z"
   },
   {
    "duration": 97,
    "start_time": "2025-04-01T03:43:55.915Z"
   },
   {
    "duration": 837,
    "start_time": "2025-04-01T03:45:14.141Z"
   },
   {
    "duration": 86,
    "start_time": "2025-04-01T03:45:14.980Z"
   },
   {
    "duration": 9,
    "start_time": "2025-04-01T03:45:15.067Z"
   },
   {
    "duration": 5,
    "start_time": "2025-04-01T03:45:15.077Z"
   },
   {
    "duration": 371,
    "start_time": "2025-04-01T03:45:15.111Z"
   },
   {
    "duration": 29,
    "start_time": "2025-04-01T03:45:15.484Z"
   },
   {
    "duration": 6,
    "start_time": "2025-04-01T03:45:15.514Z"
   },
   {
    "duration": 5,
    "start_time": "2025-04-01T03:45:15.522Z"
   },
   {
    "duration": 83,
    "start_time": "2025-04-01T03:45:15.528Z"
   },
   {
    "duration": 38,
    "start_time": "2025-04-01T03:45:15.613Z"
   },
   {
    "duration": 291,
    "start_time": "2025-04-01T03:45:15.653Z"
   },
   {
    "duration": 21,
    "start_time": "2025-04-01T03:45:15.946Z"
   },
   {
    "duration": 112,
    "start_time": "2025-04-01T03:45:15.969Z"
   },
   {
    "duration": 108,
    "start_time": "2025-04-01T03:45:16.083Z"
   },
   {
    "duration": 8,
    "start_time": "2025-04-01T03:46:08.295Z"
   },
   {
    "duration": 462,
    "start_time": "2025-04-01T03:46:56.604Z"
   },
   {
    "duration": 860,
    "start_time": "2025-04-01T03:57:06.456Z"
   },
   {
    "duration": 70,
    "start_time": "2025-04-01T03:57:07.319Z"
   },
   {
    "duration": 8,
    "start_time": "2025-04-01T03:57:07.391Z"
   },
   {
    "duration": 13,
    "start_time": "2025-04-01T03:57:07.401Z"
   },
   {
    "duration": 368,
    "start_time": "2025-04-01T03:57:07.415Z"
   },
   {
    "duration": 33,
    "start_time": "2025-04-01T03:57:07.784Z"
   },
   {
    "duration": 6,
    "start_time": "2025-04-01T03:57:07.819Z"
   },
   {
    "duration": 4,
    "start_time": "2025-04-01T03:57:07.827Z"
   },
   {
    "duration": 56,
    "start_time": "2025-04-01T03:57:07.833Z"
   },
   {
    "duration": 37,
    "start_time": "2025-04-01T03:57:07.912Z"
   },
   {
    "duration": 303,
    "start_time": "2025-04-01T03:57:07.951Z"
   },
   {
    "duration": 22,
    "start_time": "2025-04-01T03:57:08.256Z"
   },
   {
    "duration": 102,
    "start_time": "2025-04-01T03:57:08.280Z"
   },
   {
    "duration": 111,
    "start_time": "2025-04-01T03:57:08.384Z"
   },
   {
    "duration": 498,
    "start_time": "2025-04-01T03:57:08.498Z"
   }
  ],
  "kernelspec": {
   "display_name": "Python 3 (ipykernel)",
   "language": "python",
   "name": "python3"
  },
  "language_info": {
   "codemirror_mode": {
    "name": "ipython",
    "version": 3
   },
   "file_extension": ".py",
   "mimetype": "text/x-python",
   "name": "python",
   "nbconvert_exporter": "python",
   "pygments_lexer": "ipython3",
   "version": "3.9.19"
  },
  "toc": {
   "base_numbering": 1,
   "nav_menu": {},
   "number_sections": true,
   "sideBar": true,
   "skip_h1_title": true,
   "title_cell": "Table of Contents",
   "title_sidebar": "Contents",
   "toc_cell": false,
   "toc_position": {},
   "toc_section_display": true,
   "toc_window_display": false
  }
 },
 "nbformat": 4,
 "nbformat_minor": 2
}
