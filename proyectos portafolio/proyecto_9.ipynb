{
 "cells": [
  {
   "cell_type": "markdown",
   "metadata": {},
   "source": [
    "# Análisis de Marketing para Showz\n",
    "## Optimización de Gastos de Marketing y Comportamiento del Usuario\n",
    "\n",
    "### Introducción\n",
    "Este análisis se centra en la optimización de los gastos de marketing de **Showz**, una empresa de venta de entradas para eventos. El objetivo principal es comprender cómo los clientes interactúan con el servicio y determinar qué estrategias de adquisición son más rentables.\n",
    "\n",
    "### Objetivos del análisis\n",
    "1. Analizar el comportamiento de los usuarios: Identificar tendencias en visitas, sesiones y compras.\n",
    "2. Evaluar el rendimiento de las campañas de marketing: Determinar el Costo de Adquisición de Clientes (CAC) y el Retorno sobre la Inversión en Marketing (ROMI).\n",
    "3. Optimizar el presupuesto de marketing: Identificar qué fuentes de adquisición generan más ingresos en comparación con sus costos.\n",
    "\n",
    "### Datos utilizados\n",
    "Se trabajará con tres datasets principales:\n",
    "\n",
    "1. visits_log_us.csv  - Registros de visitas al sitio web de Showz.\n",
    "2. orders_log_us.csv  - Datos de pedidos y compras realizadas.\n",
    "3. costs_us.csv  - Registro de costos de adquisición de clientes.\n",
    "\n",
    "### Paso 1: Preparación de Datos\n",
    "El primer paso es cargar los datasets y asegurarnos de que están en el formato correcto. Para ello, realizaremos las siguientes acciones:\n",
    "- Cargar los datos en variables usando `pandas`.\n",
    "- Optimizar los tipos de datos para mejorar la eficiencia del análisis.\n",
    "- Verificar valores nulos o inconsistencias.\n"
   ]
  },
  {
   "cell_type": "markdown",
   "metadata": {},
   "source": [
    "# Análisis del dataset de visitas\n",
    "##  Carga y optimización del archivo `visits_log_us.csv`\n",
    "\n",
    "### Descripción del dataset\n",
    "Este archivo contiene registros de visitas al sitio web de Showz. Nos interesa analizar:\n",
    "- Cantidad de usuarios diarios, semanales y mensuales.\n",
    "- Duración de las sesiones.\n",
    "- Frecuencia de visitas.\n",
    "- Fuentes de adquisición de usuarios.\n",
    "\n",
    "### Preparación de los datos\n",
    "En este paso:\n",
    "- Cargaremos los datos en un DataFrame de pandas.\n",
    "- Convertiremos las fechas a formato `datetime` para su correcto análisis.\n",
    "- Verificaremos valores nulos y corregiremos problemas en los tipos de datos.\n",
    "\n",
    "---"
   ]
  },
  {
   "cell_type": "code",
   "execution_count": 12,
   "metadata": {
    "trusted": false
   },
   "outputs": [],
   "source": [
    "# Importar librerías\n",
    "import pandas as pd\n",
    "import matplotlib.pyplot as plt"
   ]
  },
  {
   "cell_type": "code",
   "execution_count": 1,
   "metadata": {
    "trusted": false
   },
   "outputs": [
    {
     "name": "stdout",
     "output_type": "stream",
     "text": [
      "Información del dataset de visitas:\n",
      "<class 'pandas.core.frame.DataFrame'>\n",
      "RangeIndex: 359400 entries, 0 to 359399\n",
      "Data columns (total 5 columns):\n",
      " #   Column     Non-Null Count   Dtype \n",
      "---  ------     --------------   ----- \n",
      " 0   Device     359400 non-null  object\n",
      " 1   End Ts     359400 non-null  object\n",
      " 2   Source Id  359400 non-null  int64 \n",
      " 3   Start Ts   359400 non-null  object\n",
      " 4   Uid        359400 non-null  uint64\n",
      "dtypes: int64(1), object(3), uint64(1)\n",
      "memory usage: 13.7+ MB\n",
      "None \n",
      "\n",
      "Valores nulos en visitas:\n",
      "Device       0\n",
      "End Ts       0\n",
      "Source Id    0\n",
      "Start Ts     0\n",
      "Uid          0\n",
      "dtype: int64 \n",
      "\n",
      "Primeras filas del dataset de visitas:\n",
      "    Device              End Ts  Source Id            Start Ts  \\\n",
      "0    touch 2017-12-20 17:38:00          4 2017-12-20 17:20:00   \n",
      "1  desktop 2018-02-19 17:21:00          2 2018-02-19 16:53:00   \n",
      "2    touch 2017-07-01 01:54:00          5 2017-07-01 01:54:00   \n",
      "3  desktop 2018-05-20 11:23:00          9 2018-05-20 10:59:00   \n",
      "4  desktop 2017-12-27 14:06:00          3 2017-12-27 14:06:00   \n",
      "\n",
      "                    Uid  \n",
      "0  16879256277535980062  \n",
      "1    104060357244891740  \n",
      "2   7459035603376831527  \n",
      "3  16174680259334210214  \n",
      "4   9969694820036681168  \n"
     ]
    }
   ],
   "source": [
    "# Definir la ruta del archivo\n",
    "visits_path = \"/datasets/visits_log_us.csv\"\n",
    "\n",
    "# Cargar los datos\n",
    "visits_df = pd.read_csv(visits_path)\n",
    "\n",
    "# Mostrar información del dataset\n",
    "print(\"Información del dataset de visitas:\")\n",
    "print(visits_df.info(), \"\\n\")\n",
    "\n",
    "# Convertir columnas de fecha a formato datetime\n",
    "visits_df[\"Start Ts\"] = pd.to_datetime(visits_df[\"Start Ts\"])\n",
    "visits_df[\"End Ts\"] = pd.to_datetime(visits_df[\"End Ts\"])\n",
    "\n",
    "# Verificar valores nulos\n",
    "print(\"Valores nulos en visitas:\")\n",
    "print(visits_df.isnull().sum(), \"\\n\")\n",
    "\n",
    "# Mostrar los primeros registros\n",
    "print(\"Primeras filas del dataset de visitas:\")\n",
    "print(visits_df.head())\n"
   ]
  },
  {
   "cell_type": "markdown",
   "metadata": {},
   "source": [
    "# Análisis del dataset de pedidos\n",
    "##  Carga y optimización del archivo `orders_log_us.csv`\n",
    "\n",
    "### Descripción del dataset\n",
    "Este archivo contiene información sobre los pedidos realizados en Showz. Nos permitirá analizar:\n",
    "- Cuándo los usuarios comienzan a comprar.\n",
    "- Frecuencia de compra y monto total gastado.\n",
    "- Tamaño promedio de los pedidos.\n",
    "- Valor de por vida del cliente (LTV).\n",
    "\n",
    "### Preparación de los datos\n",
    "En este paso:\n",
    "- Cargaremos los datos en un DataFrame de pandas.\n",
    "- Convertiremos las fechas de compra a `datetime`.\n",
    "- Verificaremos valores nulos y tipos de datos.\n",
    "\n",
    "---\n"
   ]
  },
  {
   "cell_type": "code",
   "execution_count": 2,
   "metadata": {
    "trusted": false
   },
   "outputs": [
    {
     "name": "stdout",
     "output_type": "stream",
     "text": [
      "Información del dataset de pedidos:\n",
      "<class 'pandas.core.frame.DataFrame'>\n",
      "RangeIndex: 50415 entries, 0 to 50414\n",
      "Data columns (total 3 columns):\n",
      " #   Column   Non-Null Count  Dtype  \n",
      "---  ------   --------------  -----  \n",
      " 0   Buy Ts   50415 non-null  object \n",
      " 1   Revenue  50415 non-null  float64\n",
      " 2   Uid      50415 non-null  uint64 \n",
      "dtypes: float64(1), object(1), uint64(1)\n",
      "memory usage: 1.2+ MB\n",
      "None \n",
      "\n",
      "Valores nulos en pedidos:\n",
      "Buy Ts     0\n",
      "Revenue    0\n",
      "Uid        0\n",
      "dtype: int64 \n",
      "\n",
      "Primeras filas del dataset de pedidos:\n",
      "               Buy Ts  Revenue                   Uid\n",
      "0 2017-06-01 00:10:00    17.00  10329302124590727494\n",
      "1 2017-06-01 00:25:00     0.55  11627257723692907447\n",
      "2 2017-06-01 00:27:00     0.37  17903680561304213844\n",
      "3 2017-06-01 00:29:00     0.55  16109239769442553005\n",
      "4 2017-06-01 07:58:00     0.37  14200605875248379450\n"
     ]
    }
   ],
   "source": [
    "# Definir la ruta del archivo\n",
    "orders_path = \"/datasets/orders_log_us.csv\"\n",
    "\n",
    "# Cargar los datos\n",
    "orders_df = pd.read_csv(orders_path)\n",
    "\n",
    "# Mostrar información del dataset\n",
    "print(\"Información del dataset de pedidos:\")\n",
    "print(orders_df.info(), \"\\n\")\n",
    "\n",
    "# Convertir columnas de fecha a formato datetime\n",
    "orders_df[\"Buy Ts\"] = pd.to_datetime(orders_df[\"Buy Ts\"])\n",
    "\n",
    "# Verificar valores nulos\n",
    "print(\"Valores nulos en pedidos:\")\n",
    "print(orders_df.isnull().sum(), \"\\n\")\n",
    "\n",
    "# Mostrar los primeros registros\n",
    "print(\"Primeras filas del dataset de pedidos:\")\n",
    "print(orders_df.head())\n"
   ]
  },
  {
   "cell_type": "markdown",
   "metadata": {},
   "source": [
    "# Análisis del dataset de costos\n",
    "##  Carga y optimización del archivo `costs_us.csv`\n",
    "\n",
    "### Descripción del dataset\n",
    "Este archivo contiene los gastos de marketing de Showz. Nos permitirá calcular:\n",
    "- Costo total de adquisición de clientes (CAC).\n",
    "- Retorno sobre inversión en marketing (ROMI).\n",
    "- Eficiencia de diferentes fuentes de publicidad.\n",
    "\n",
    "### Preparación de los datos\n",
    "En este paso:\n",
    "- Cargaremos los datos en un DataFrame de pandas.\n",
    "- Convertiremos las fechas a `datetime` para su correcto análisis.\n",
    "- Verificaremos valores nulos y corregiremos los tipos de datos si es necesario.\n",
    "\n",
    "---\n"
   ]
  },
  {
   "cell_type": "code",
   "execution_count": 3,
   "metadata": {
    "trusted": false
   },
   "outputs": [
    {
     "name": "stdout",
     "output_type": "stream",
     "text": [
      "Información del dataset de costos:\n",
      "<class 'pandas.core.frame.DataFrame'>\n",
      "RangeIndex: 2542 entries, 0 to 2541\n",
      "Data columns (total 3 columns):\n",
      " #   Column     Non-Null Count  Dtype  \n",
      "---  ------     --------------  -----  \n",
      " 0   source_id  2542 non-null   int64  \n",
      " 1   dt         2542 non-null   object \n",
      " 2   costs      2542 non-null   float64\n",
      "dtypes: float64(1), int64(1), object(1)\n",
      "memory usage: 59.7+ KB\n",
      "None \n",
      "\n",
      "Valores nulos en costos:\n",
      "source_id    0\n",
      "dt           0\n",
      "costs        0\n",
      "dtype: int64 \n",
      "\n",
      "Primeras filas del dataset de costos:\n",
      "   source_id         dt  costs\n",
      "0          1 2017-06-01  75.20\n",
      "1          1 2017-06-02  62.25\n",
      "2          1 2017-06-03  36.53\n",
      "3          1 2017-06-04  55.00\n",
      "4          1 2017-06-05  57.08\n"
     ]
    }
   ],
   "source": [
    "# Definir la ruta del archivo\n",
    "costs_path = \"/datasets/costs_us.csv\"\n",
    "\n",
    "# Cargar los datos\n",
    "costs_df = pd.read_csv(costs_path)\n",
    "\n",
    "# Mostrar información del dataset\n",
    "print(\"Información del dataset de costos:\")\n",
    "print(costs_df.info(), \"\\n\")\n",
    "\n",
    "# Convertir columnas de fecha a formato datetime\n",
    "costs_df[\"dt\"] = pd.to_datetime(costs_df[\"dt\"])\n",
    "\n",
    "# Verificar valores nulos\n",
    "print(\"Valores nulos en costos:\")\n",
    "print(costs_df.isnull().sum(), \"\\n\")\n",
    "\n",
    "# Mostrar los primeros registros\n",
    "print(\"Primeras filas del dataset de costos:\")\n",
    "print(costs_df.head())\n"
   ]
  },
  {
   "cell_type": "markdown",
   "metadata": {},
   "source": [
    "## Preparación de Datos\n",
    "\n",
    "### Resumen de la optimización de datos\n",
    "Hemos cargado y revisado los tres datasets principales del análisis: visitas, pedidos y costos de marketing. A partir de la exploración inicial, se identificaron los siguientes puntos clave:\n",
    "\n",
    "### Dataset de Visitas (`visits_log_us.csv`)\n",
    "- Contiene 359,400 registros de sesiones de usuarios en la plataforma.\n",
    "- No tiene valores nulos en ninguna columna.\n",
    "- Las fechas de inicio y fin de sesión (`Start Ts`, `End Ts`) han sido convertidas a formato **datetime**.\n",
    "- La columna `Source Id` representa la fuente de adquisición de los usuarios.\n",
    "\n",
    "### Dataset de Pedidos (`orders_log_us.csv`)\n",
    "- Contiene 50,415 registros de compras realizadas en la plataforma.\n",
    "- No hay valores nulos en las columnas.\n",
    "- La fecha de compra (`Buy Ts`) ha sido convertida a datetime.\n",
    "- La columna `Revenue` representa el ingreso generado por cada compra.\n",
    "- La columna `Uid` permitirá vincular las compras con los registros de visitas.\n",
    "\n",
    "### Dataset de Costos (`costs_us.csv`)\n",
    "- Contiene 2,542 registros de gastos de marketing.\n",
    "- No tiene valores nulos.\n",
    "- La columna `dt` ha sido convertida a datetime para facilitar el análisis temporal.\n",
    "- `source_id` representa la fuente publicitaria y `costs` el gasto correspondiente.\n"
   ]
  },
  {
   "cell_type": "markdown",
   "metadata": {},
   "source": [
    "## **Paso 2: Informes y Cálculo de Métricas**\n"
   ]
  },
  {
   "cell_type": "markdown",
   "metadata": {},
   "source": [
    "## **Análisis de Visitas**\n",
    "\n",
    "### **Objetivo**\n",
    "En esta sección, analizaremos el comportamiento de los usuarios en la plataforma para identificar patrones de uso y tendencias de visitas.\n",
    "\n",
    "### **Métricas a calcular**\n",
    "1. Número de usuarios únicos por día, semana y mes.\n",
    "2. Cantidad de sesiones diarias.\n",
    "3. Duración promedio de una sesión.\n",
    "4. Frecuencia de retorno de los usuarios.\n",
    "\n",
    "El objetivo es comprender cómo los usuarios interactúan con la plataforma y qué tan frecuentemente regresan. Esta información será clave para evaluar el impacto del marketing y la retención de clientes.\n",
    "\n",
    "---\n"
   ]
  },
  {
   "cell_type": "code",
   "execution_count": 4,
   "metadata": {
    "trusted": false
   },
   "outputs": [
    {
     "name": "stdout",
     "output_type": "stream",
     "text": [
      "Número de usuarios únicos por día:\n",
      "date\n",
      "2017-06-01    605\n",
      "2017-06-02    608\n",
      "2017-06-03    445\n",
      "2017-06-04    476\n",
      "2017-06-05    820\n",
      "Name: Uid, dtype: int64 \n",
      "\n",
      "Número de usuarios únicos por semana:\n",
      "Start Ts\n",
      "2017-06-04    2021\n",
      "2017-06-11    4129\n",
      "2017-06-18    2812\n",
      "2017-06-25    2878\n",
      "2017-07-02    3064\n",
      "Freq: W-SUN, Name: Uid, dtype: int64 \n",
      "\n",
      "Número de usuarios únicos por mes:\n",
      "Start Ts\n",
      "2017-06-30    13259\n",
      "2017-07-31    14183\n",
      "2017-08-31    11631\n",
      "2017-09-30    18975\n",
      "2017-10-31    29692\n",
      "Freq: M, Name: Uid, dtype: int64 \n",
      "\n",
      "Número de sesiones por día:\n",
      "date\n",
      "2017-06-01    664\n",
      "2017-06-02    658\n",
      "2017-06-03    477\n",
      "2017-06-04    510\n",
      "2017-06-05    893\n",
      "Name: Uid, dtype: int64 \n",
      "\n",
      "Duración promedio de una sesión en segundos:\n",
      "643.0256872565387 \n",
      "\n",
      "Distribución de frecuencia de retorno de los usuarios:\n",
      "1    183124\n",
      "2     27591\n",
      "3      8484\n",
      "4      3706\n",
      "5      1821\n",
      "Name: date, dtype: int64\n"
     ]
    }
   ],
   "source": [
    "\n",
    "# Copia del dataset para trabajar\n",
    "visits_data = visits_df.copy()\n",
    "\n",
    "# Extraer la fecha de las columnas de timestamp\n",
    "visits_data[\"date\"] = visits_data[\"Start Ts\"].dt.date\n",
    "\n",
    "# Calcular número de usuarios únicos por día, semana y mes\n",
    "users_per_day = visits_data.groupby(\"date\")[\"Uid\"].nunique()\n",
    "users_per_week = visits_data.groupby(pd.Grouper(key=\"Start Ts\", freq=\"W\"))[\"Uid\"].nunique()\n",
    "users_per_month = visits_data.groupby(pd.Grouper(key=\"Start Ts\", freq=\"M\"))[\"Uid\"].nunique()\n",
    "\n",
    "# Calcular el número de sesiones por día\n",
    "sessions_per_day = visits_data.groupby(\"date\")[\"Uid\"].count()\n",
    "\n",
    "# Calcular duración de cada sesión\n",
    "visits_data[\"session_duration\"] = (visits_data[\"End Ts\"] - visits_data[\"Start Ts\"]).dt.total_seconds()\n",
    "avg_session_duration = visits_data[\"session_duration\"].mean()\n",
    "\n",
    "# Calcular la frecuencia de retorno de los usuarios\n",
    "returning_users = visits_data.groupby(\"Uid\")[\"date\"].nunique()\n",
    "returning_users_distribution = returning_users.value_counts().sort_index()\n",
    "\n",
    "# Mostrar resultados\n",
    "print(\"Número de usuarios únicos por día:\")\n",
    "print(users_per_day.head(), \"\\n\")\n",
    "\n",
    "print(\"Número de usuarios únicos por semana:\")\n",
    "print(users_per_week.head(), \"\\n\")\n",
    "\n",
    "print(\"Número de usuarios únicos por mes:\")\n",
    "print(users_per_month.head(), \"\\n\")\n",
    "\n",
    "print(\"Número de sesiones por día:\")\n",
    "print(sessions_per_day.head(), \"\\n\")\n",
    "\n",
    "print(\"Duración promedio de una sesión en segundos:\")\n",
    "print(avg_session_duration, \"\\n\")\n",
    "\n",
    "print(\"Distribución de frecuencia de retorno de los usuarios:\")\n",
    "print(returning_users_distribution.head())\n"
   ]
  },
  {
   "cell_type": "markdown",
   "metadata": {},
   "source": [
    "## Resultados\n",
    "\n",
    "### Usuarios únicos\n",
    "- Promedio diario: Alrededor de 600 a 800 usuarios únicos visitan la plataforma cada día.\n",
    "- Promedio semanal: Varía entre 2,000 y 4,000 usuarios únicos por semana.\n",
    "- Promedio mensual: En los primeros meses del dataset, la plataforma recibe entre 13,000 y 30,000 usuarios únicos al mes, con una tendencia creciente.\n",
    "\n",
    "### Sesiones por día\n",
    "- La cantidad de sesiones por día es ligeramente superior al número de usuarios únicos, lo que indica que algunos usuarios visitan la plataforma más de una vez en el mismo día.\n",
    "- Ejemplo: El 1 de junio de 2017 hubo 605 usuarios únicos y 664 sesiones, lo que sugiere que algunos usuarios iniciaron más de una sesión.\n",
    "\n",
    "### Duración promedio de una sesión\n",
    "- La duración promedio de una sesión es de 643 segundos (aproximadamente 10.7 minutos).\n",
    "- Esto sugiere que los usuarios pasan un tiempo moderado en la plataforma antes de abandonar la sesión.\n",
    "\n",
    "### Frecuencia de retorno\n",
    "- 183,124 usuarios visitaron la plataforma solo una vez.\n",
    "- 27,591 usuarios regresaron al menos una vez más.\n",
    "- La cantidad de usuarios disminuye conforme aumenta el número de visitas repetidas, lo que indica que una gran proporción de visitantes son usuarios nuevos o poco recurrentes.\n",
    "\n",
    "### Conclusiones\n",
    "1. La plataforma tiene una base de usuarios en crecimiento, con una tendencia positiva en la cantidad de usuarios únicos mensuales.\n",
    "2. La mayoría de los usuarios no regresan después de su primera visita, lo que sugiere oportunidades de mejora en estrategias de retención.\n",
    "3. La duración promedio de una sesión indica que los usuarios pasan alrededor de 10 minutos explorando el sitio, lo cual es suficiente para evaluar la oferta, pero se podría analizar si este tiempo se traduce en conversiones.\n",
    "4. La proporción de sesiones por usuario indica que hay usuarios recurrentes, pero la mayoría de las visitas siguen siendo únicas.\n"
   ]
  },
  {
   "cell_type": "markdown",
   "metadata": {},
   "source": [
    "## Análisis de Ventas y Conversión de Usuarios\n",
    "\n",
    "### Objetivo\n",
    "En esta sección, analizaremos el comportamiento de compra de los usuarios para entender el proceso de conversión y evaluar patrones en las transacciones realizadas en la plataforma Showz.\n",
    "\n",
    "### Métricas a calcular\n",
    "1. Tiempo transcurrido entre el registro y la primera compra (análisis de conversión).\n",
    "2. Número total de pedidos en distintos periodos de tiempo.\n",
    "3. Tamaño promedio de compra.\n",
    "4. Valor de por vida del cliente (LTV).\n",
    "\n",
    "Este análisis permitirá evaluar la efectividad del proceso de conversión y determinar tendencias en la frecuencia de compra y los ingresos generados por los clientes.\n",
    "\n",
    "---\n"
   ]
  },
  {
   "cell_type": "code",
   "execution_count": 5,
   "metadata": {
    "trusted": false
   },
   "outputs": [
    {
     "name": "stdout",
     "output_type": "stream",
     "text": [
      "Número de pedidos por día:\n",
      "date\n",
      "2017-06-01     96\n",
      "2017-06-02    111\n",
      "2017-06-03     67\n",
      "2017-06-04     66\n",
      "2017-06-05    161\n",
      "Name: Uid, dtype: int64 \n",
      "\n",
      "Número de pedidos por semana:\n",
      "Buy Ts\n",
      "2017-06-04    340\n",
      "2017-06-11    938\n",
      "2017-06-18    343\n",
      "2017-06-25    371\n",
      "2017-07-02    460\n",
      "Freq: W-SUN, Name: Uid, dtype: int64 \n",
      "\n",
      "Número de pedidos por mes:\n",
      "Buy Ts\n",
      "2017-06-30    2354\n",
      "2017-07-31    2363\n",
      "2017-08-31    1807\n",
      "2017-09-30    3387\n",
      "2017-10-31    5679\n",
      "Freq: M, Name: Uid, dtype: int64 \n",
      "\n",
      "Tamaño promedio de compra:\n",
      "4.999646930477041 \n",
      "\n",
      "Valor de por vida del cliente (LTV) promedio:\n",
      "6.901327930345262 \n",
      "\n",
      "Distribución del tiempo de conversión (Ejemplo):\n",
      "0     87\n",
      "1     96\n",
      "2     58\n",
      "3     56\n",
      "4    140\n",
      "Name: conversion_days, dtype: int64\n"
     ]
    }
   ],
   "source": [
    "# Copiar el dataset para trabajar\n",
    "orders_data = orders_df.copy()\n",
    "\n",
    "# Extraer la fecha sin hora para análisis diario\n",
    "orders_data[\"date\"] = orders_data[\"Buy Ts\"].dt.date\n",
    "\n",
    "# Calcular el número total de pedidos por día, semana y mes\n",
    "orders_per_day = orders_data.groupby(\"date\")[\"Uid\"].count()\n",
    "orders_per_week = orders_data.groupby(pd.Grouper(key=\"Buy Ts\", freq=\"W\"))[\"Uid\"].count()\n",
    "orders_per_month = orders_data.groupby(pd.Grouper(key=\"Buy Ts\", freq=\"M\"))[\"Uid\"].count()\n",
    "\n",
    "# Calcular el tamaño promedio de compra\n",
    "average_order_value = orders_data[\"Revenue\"].mean()\n",
    "\n",
    "# Calcular el valor de por vida del cliente (LTV)\n",
    "ltv_per_user = orders_data.groupby(\"Uid\")[\"Revenue\"].sum()\n",
    "average_ltv = ltv_per_user.mean()\n",
    "\n",
    "# Calcular el tiempo de conversión desde la primera visita hasta la primera compra\n",
    "orders_data = orders_data.sort_values(by=[\"Uid\", \"Buy Ts\"])\n",
    "first_purchase = orders_data.groupby(\"Uid\")[\"Buy Ts\"].min().reset_index()\n",
    "first_purchase[\"conversion_days\"] = (first_purchase[\"Buy Ts\"] - first_purchase[\"Buy Ts\"].min()).dt.days\n",
    "\n",
    "# Distribución del tiempo de conversión\n",
    "conversion_distribution = first_purchase[\"conversion_days\"].value_counts().sort_index()\n",
    "\n",
    "# Mostrar resultados\n",
    "print(\"Número de pedidos por día:\")\n",
    "print(orders_per_day.head(), \"\\n\")\n",
    "\n",
    "print(\"Número de pedidos por semana:\")\n",
    "print(orders_per_week.head(), \"\\n\")\n",
    "\n",
    "print(\"Número de pedidos por mes:\")\n",
    "print(orders_per_month.head(), \"\\n\")\n",
    "\n",
    "print(\"Tamaño promedio de compra:\")\n",
    "print(average_order_value, \"\\n\")\n",
    "\n",
    "print(\"Valor de por vida del cliente (LTV) promedio:\")\n",
    "print(average_ltv, \"\\n\")\n",
    "\n",
    "print(\"Distribución del tiempo de conversión (Ejemplo):\")\n",
    "print(conversion_distribution.head())\n"
   ]
  },
  {
   "cell_type": "markdown",
   "metadata": {},
   "source": [
    "## Resultados\n",
    "\n",
    "### Número de pedidos\n",
    "- Promedio diario: La cantidad de pedidos varía entre 66 y 161 por día en los primeros meses del análisis.\n",
    "- Promedio semanal: Entre 300 y 900 pedidos por semana, lo que sugiere una demanda fluctuante con picos en ciertos momentos.\n",
    "- Promedio mensual: Se observa una tendencia creciente en la cantidad de pedidos mensuales, pasando de 2,354 en junio de 2017 a 5,679 en octubre de 2017.\n",
    "\n",
    "### Tamaño promedio de compra\n",
    "- El valor promedio de una compra es aproximadamente **5 dólares**.\n",
    "- Indica que los usuarios generalmente realizan compras de bajo monto, lo que puede sugerir que la plataforma maneja entradas de eventos económicas o que los clientes hacen compras pequeñas y frecuentes.\n",
    "\n",
    "### Valor de por vida del cliente (LTV)\n",
    "- El valor promedio de por vida de un cliente es aproximadamente **6.90 dólares**.\n",
    "- Esto sugiere que, en promedio, un cliente gasta menos de **7 dólares** en la plataforma antes de dejar de comprar.\n",
    "- La diferencia entre el tamaño promedio de compra y el LTV sugiere que la mayoría de los usuarios realiza aproximadamente **una o dos compras** antes de abandonar la plataforma.\n",
    "\n",
    "### Distribución del tiempo de conversión\n",
    "- Algunos usuarios convierten en el mismo día de su primera visita (87 casos).\n",
    "- Un número significativo convierte dentro de los primeros días, con 96 usuarios comprando al día siguiente y 140 después de 4 días.\n",
    "- La conversión temprana parece ser un comportamiento común, pero hay oportunidades para mejorar la retención de aquellos que no compran de inmediato.\n",
    "\n",
    "### Conclusiones\n",
    "1. La cantidad de pedidos muestra una tendencia de crecimiento mensual, lo que indica que la base de clientes está en expansión.\n",
    "2. El tamaño promedio de compra es bajo, lo que sugiere que los usuarios prefieren compras pequeñas y recurrentes en lugar de realizar grandes transacciones.\n",
    "3. El valor de por vida del cliente indica que la mayoría de los clientes no hacen muchas compras antes de abandonar la plataforma. Es posible que haya oportunidades para mejorar la retención y fomentar compras repetidas.\n",
    "4. La conversión de usuarios ocurre en su mayoría dentro de los primeros días de su visita inicial, lo que sugiere que las estrategias de marketing deberían enfocarse en impactar a los usuarios en los primeros días después de su registro.\n"
   ]
  },
  {
   "cell_type": "markdown",
   "metadata": {},
   "source": [
    "## Análisis de Marketing y Costos\n",
    "\n",
    "### Objetivo\n",
    "En esta sección se analizará el gasto en marketing y su relación con la adquisición de clientes y los ingresos generados. Se evaluará la rentabilidad de las inversiones en publicidad para determinar qué estrategias son más efectivas.\n",
    "\n",
    "### Métricas a calcular\n",
    "1. Gasto total de marketing por fuente y a lo largo del tiempo.\n",
    "2. Costo de adquisición de clientes (CAC) por fuente de adquisición.\n",
    "3. Rentabilidad de las inversiones en marketing (ROMI).\n",
    "\n",
    "Este análisis permitirá identificar qué canales de adquisición están generando clientes de manera más eficiente y cuáles son más rentables en términos de ingresos generados.\n",
    "\n",
    "---\n"
   ]
  },
  {
   "cell_type": "code",
   "execution_count": 6,
   "metadata": {
    "scrolled": true,
    "trusted": false
   },
   "outputs": [
    {
     "name": "stdout",
     "output_type": "stream",
     "text": [
      "Gasto total de marketing en dólares:\n",
      "329131.62 \n",
      "\n",
      "Gasto de marketing por fuente de adquisición:\n",
      "source_id\n",
      "1      20833.27\n",
      "2      42806.04\n",
      "3     141321.63\n",
      "4      61073.60\n",
      "5      51757.10\n",
      "9       5517.49\n",
      "10      5822.49\n",
      "Name: costs, dtype: float64 \n",
      "\n",
      "Número total de clientes adquiridos:\n",
      "36523 \n",
      "\n",
      "Costo de adquisición de clientes (CAC) en dólares:\n",
      "9.011626098622786 \n",
      "\n",
      "Retorno sobre la inversión en marketing (ROMI):\n",
      "-0.2341750695360112\n"
     ]
    }
   ],
   "source": [
    "# Copia del dataset para trabajar\n",
    "costs_data = costs_df.copy()\n",
    "\n",
    "# Convertir la columna de fecha a formato datetime\n",
    "costs_data[\"dt\"] = pd.to_datetime(costs_data[\"dt\"])\n",
    "\n",
    "# Calcular el gasto total de marketing\n",
    "total_marketing_spend = costs_data[\"costs\"].sum()\n",
    "\n",
    "# Calcular el gasto de marketing por fuente de adquisición\n",
    "spend_by_source = costs_data.groupby(\"source_id\")[\"costs\"].sum()\n",
    "\n",
    "# Calcular el número total de clientes adquiridos\n",
    "total_customers = orders_df[\"Uid\"].nunique()\n",
    "\n",
    "# Calcular el costo de adquisición de clientes (CAC)\n",
    "cac = total_marketing_spend / total_customers\n",
    "\n",
    "# Calcular el retorno sobre la inversión en marketing (ROMI)\n",
    "total_revenue = orders_df[\"Revenue\"].sum()\n",
    "romi = (total_revenue - total_marketing_spend) / total_marketing_spend\n",
    "\n",
    "# Mostrar resultados\n",
    "print(\"Gasto total de marketing en dólares:\")\n",
    "print(total_marketing_spend, \"\\n\")\n",
    "\n",
    "print(\"Gasto de marketing por fuente de adquisición:\")\n",
    "print(spend_by_source, \"\\n\")\n",
    "\n",
    "print(\"Número total de clientes adquiridos:\")\n",
    "print(total_customers, \"\\n\")\n",
    "\n",
    "print(\"Costo de adquisición de clientes (CAC) en dólares:\")\n",
    "print(cac, \"\\n\")\n",
    "\n",
    "print(\"Retorno sobre la inversión en marketing (ROMI):\")\n",
    "print(romi)\n"
   ]
  },
  {
   "cell_type": "markdown",
   "metadata": {},
   "source": [
    "## Resultados\n",
    "\n",
    "### Gasto total de marketing\n",
    "- El gasto total en marketing durante el período analizado fue de **329,131.62 dólares**.\n",
    "- Se distribuyó en diferentes fuentes de adquisición, siendo la fuente **3** la que tuvo el mayor gasto con **141,321.63 dólares**, seguida por la fuente **4** con **61,073.60 dólares** y la fuente **2** con **42,806.04 dólares**.\n",
    "\n",
    "### Costo de adquisición de clientes (CAC)\n",
    "- El costo de adquisición de clientes se calcula dividiendo el gasto total en marketing entre el número total de clientes adquiridos.\n",
    "- El **CAC promedio fue de 9.01 dólares** por cliente, lo que indica que en promedio se gastan más de 9 dólares en publicidad para cada usuario que realiza una compra.\n",
    "\n",
    "### Retorno sobre la inversión en marketing (ROMI)\n",
    "- El ROMI se calcula dividiendo la diferencia entre los ingresos y los costos de marketing entre los costos de marketing.\n",
    "- Se obtuvo un **ROMI de -0.23**, lo que indica que la inversión en marketing no fue rentable en este periodo, ya que los ingresos generados no lograron cubrir los costos de adquisición.\n",
    "\n",
    "### Conclusiones\n",
    "1. **El costo de adquisición de clientes es elevado en comparación con el valor de por vida del cliente (LTV)**. El CAC promedio es de **9.01 dólares**, mientras que el LTV es de **6.90 dólares**, lo que sugiere que cada cliente adquirido genera menos ingresos de los que cuesta atraerlo.\n",
    "2. **El retorno sobre la inversión en marketing es negativo (-23.4%)**, lo que significa que la estrategia de adquisición de clientes no está generando suficiente retorno para cubrir los costos publicitarios.\n",
    "3. **Algunas fuentes de adquisición pueden estar generando clientes con bajo retorno**. Se recomienda analizar la rentabilidad de cada fuente en términos de ingresos generados por los usuarios que provienen de ellas."
   ]
  },
  {
   "cell_type": "markdown",
   "metadata": {},
   "source": [
    "## Evolución del número de pedidos por mes\n",
    "\n",
    "### Objetivo\n",
    "Este gráfico muestra la cantidad de pedidos realizados en la plataforma a lo largo del tiempo. Permite visualizar si hay una tendencia de crecimiento o caída en las compras y analizar el impacto de estrategias comerciales o eventos específicos.\n",
    "\n",
    "### Lo que se busca analizar\n",
    "- Identificar tendencias de crecimiento o disminución en los pedidos mensuales.\n",
    "- Evaluar la estacionalidad y posibles fluctuaciones en las compras.\n",
    "- Relacionar los cambios en los pedidos con campañas de marketing u otros factores externos.\n"
   ]
  },
  {
   "cell_type": "code",
   "execution_count": 7,
   "metadata": {
    "trusted": false
   },
   "outputs": [
    {
     "data": {
      "image/png": "[encoded data removed]",
      "text/plain": [
       "<Figure size 1000x500 with 1 Axes>"
      ]
     },
     "metadata": {},
     "output_type": "display_data"
    }
   ],
   "source": [
    "# Visualización 1: Evolución del número de pedidos por mes\n",
    "plt.figure(figsize=(10, 5))\n",
    "orders_per_month.plot(marker='o', linestyle='-')\n",
    "plt.title(\"Evolución del número de pedidos por mes\")\n",
    "plt.xlabel(\"Fecha\")\n",
    "plt.ylabel(\"Número de pedidos\")\n",
    "plt.grid(True)\n",
    "plt.show()\n"
   ]
  },
  {
   "cell_type": "markdown",
   "metadata": {},
   "source": [
    "El gráfico muestra la variación en la cantidad de pedidos realizados mensualmente en la plataforma. Se observa un aumento significativo desde septiembre hasta diciembre, seguido de fluctuaciones en los primeros meses de 2018. Hay una caída notable en abril y junio, lo que sugiere posibles efectos estacionales o cambios en la estrategia de marketing.\n"
   ]
  },
  {
   "cell_type": "markdown",
   "metadata": {},
   "source": [
    "## Gasto en marketing por fuente de adquisición\n",
    "\n",
    "### Objetivo\n",
    "Este gráfico muestra cuánto se ha gastado en cada fuente de adquisición. Permite identificar cuáles han recibido mayor inversión y analizar si este gasto está relacionado con la conversión de clientes.\n",
    "\n",
    "### Lo que se busca analizar\n",
    "- Comparar la inversión en diferentes fuentes de adquisición.\n",
    "- Identificar si el gasto está distribuido equitativamente o si algunas fuentes reciben mayor atención.\n",
    "- Relacionar la inversión con el rendimiento de cada canal en términos de clientes adquiridos y retorno sobre inversión.\n"
   ]
  },
  {
   "cell_type": "code",
   "execution_count": 8,
   "metadata": {
    "trusted": false
   },
   "outputs": [
    {
     "data": {
      "image/png": "[encoded data removed]",
      "text/plain": [
       "<Figure size 1000x500 with 1 Axes>"
      ]
     },
     "metadata": {},
     "output_type": "display_data"
    }
   ],
   "source": [
    "# Visualización 2: Gasto en marketing por fuente de adquisición\n",
    "plt.figure(figsize=(10, 5))\n",
    "spend_by_source.plot(kind=\"bar\", color=\"skyblue\")\n",
    "plt.title(\"Gasto en marketing por fuente de adquisición\")\n",
    "plt.xlabel(\"Fuente de adquisición\")\n",
    "plt.ylabel(\"Gasto en dólares\")\n",
    "plt.xticks(rotation=0)\n",
    "plt.grid(axis=\"y\")\n",
    "plt.show()"
   ]
  },
  {
   "cell_type": "markdown",
   "metadata": {},
   "source": [
    "El gráfico muestra la distribución del gasto publicitario entre diferentes fuentes de adquisición. Se observa que la fuente 3 ha recibido la mayor inversión, superando los 140,000 dólares, mientras que otras fuentes como 9 y 10 han recibido montos significativamente menores. Este análisis ayuda a evaluar si la distribución del gasto está alineada con la rentabilidad y conversión de clientes.\n"
   ]
  },
  {
   "cell_type": "markdown",
   "metadata": {},
   "source": [
    "## Comparación del Costo de Adquisición de Clientes (CAC) y el Valor de por Vida del Cliente (LTV)\n",
    "\n",
    "### Objetivo\n",
    "Este gráfico compara el costo promedio de adquirir un cliente con el valor total que este genera en la plataforma. Permite visualizar si la inversión en adquisición de clientes es rentable o si se están gastando más recursos de los que los clientes generan en ingresos.\n",
    "\n",
    "### Lo que se busca analizar\n",
    "- Evaluar si el CAC es menor que el LTV, lo que indicaría una estrategia de adquisición sostenible.\n",
    "- Determinar si el costo de adquisición supera el valor de vida del cliente, lo que implicaría pérdidas en la rentabilidad.\n",
    "- Identificar la necesidad de reducir costos de adquisición o aumentar la retención de clientes para mejorar la rentabilidad.\n"
   ]
  },
  {
   "cell_type": "code",
   "execution_count": 9,
   "metadata": {
    "trusted": false
   },
   "outputs": [
    {
     "data": {
      "image/png": "[encoded data removed]",
      "text/plain": [
       "<Figure size 600x600 with 1 Axes>"
      ]
     },
     "metadata": {},
     "output_type": "display_data"
    }
   ],
   "source": [
    "\n",
    "# Visualización 3: Comparación del Costo de Adquisición de Clientes (CAC) y el Valor de por Vida del Cliente (LTV)\n",
    "plt.figure(figsize=(6, 6))\n",
    "plt.bar([\"Costo de Adquisición (CAC)\", \"Valor de por vida (LTV)\"], [cac, average_ltv], color=[\"red\", \"green\"])\n",
    "plt.title(\"Comparación del CAC y LTV\")\n",
    "plt.ylabel(\"Dólares por cliente\")\n",
    "plt.grid(axis=\"y\")\n",
    "plt.show()"
   ]
  },
  {
   "cell_type": "markdown",
   "metadata": {},
   "source": [
    "El gráfico muestra que el costo de adquisición de clientes (CAC) es mayor que el valor de por vida del cliente (LTV). Esto indica que la empresa está gastando más en adquirir cada cliente de lo que este genera en ingresos, lo que puede afectar la rentabilidad del negocio. Para mejorar la sostenibilidad, se recomienda reducir el CAC o aumentar el LTV mediante estrategias de retención y recompra.\n"
   ]
  },
  {
   "cell_type": "markdown",
   "metadata": {},
   "source": [
    "## Distribución del tiempo de conversión de usuarios\n",
    "\n",
    "### Objetivo\n",
    "Este gráfico muestra cuántos días tardan los usuarios en realizar su primera compra después de su primera visita. Permite analizar el comportamiento de conversión y determinar si la mayoría de los clientes compran rápidamente o si requieren más tiempo para decidirse.\n",
    "\n",
    "### Lo que se busca analizar\n",
    "- Identificar cuántos usuarios convierten el mismo día de su primera visita.\n",
    "- Evaluar cuántos usuarios tardan varios días en realizar su primera compra.\n",
    "- Detectar posibles oportunidades para mejorar la conversión a través de estrategias de remarketing o incentivos tempranos.\n"
   ]
  },
  {
   "cell_type": "code",
   "execution_count": 10,
   "metadata": {
    "trusted": false
   },
   "outputs": [
    {
     "data": {
      "image/png": "[encoded data removed]",
      "text/plain": [
       "<Figure size 1000x500 with 1 Axes>"
      ]
     },
     "metadata": {},
     "output_type": "display_data"
    }
   ],
   "source": [
    "# Reducir la cantidad de etiquetas en el eje X para mejorar la legibilidad\n",
    "plt.figure(figsize=(10, 5))\n",
    "ax = conversion_distribution.plot(kind=\"bar\", color=\"purple\")\n",
    "\n",
    "# Modificar las etiquetas del eje X para que solo aparezcan cada ciertos valores\n",
    "xticks = range(0, len(conversion_distribution), len(conversion_distribution) // 10)\n",
    "ax.set_xticks(xticks)\n",
    "ax.set_xticklabels([conversion_distribution.index[i] for i in xticks], rotation=45)\n",
    "\n",
    "plt.title(\"Distribución del tiempo de conversión de usuarios\")\n",
    "plt.xlabel(\"Días hasta la primera compra\")\n",
    "plt.ylabel(\"Número de usuarios\")\n",
    "plt.grid(axis=\"y\")\n",
    "plt.show()"
   ]
  },
  {
   "cell_type": "markdown",
   "metadata": {},
   "source": [
    "El gráfico muestra la cantidad de días que tardan los usuarios en realizar su primera compra después de visitar la plataforma. Se ha optimizado el eje X para mejorar la legibilidad, destacando los intervalos clave. Se observa que hay conversiones constantes a lo largo del tiempo, con picos en ciertos momentos, particularmente alrededor de los 180 días. Esto puede indicar que algunos usuarios requieren un largo período antes de decidirse a comprar, lo que sugiere la necesidad de estrategias de remarketing y recordatorios para acelerar la conversión.\n"
   ]
  },
  {
   "cell_type": "markdown",
   "metadata": {},
   "source": [
    "## Evolución del gasto en marketing a lo largo del tiempo\n",
    "\n",
    "### Objetivo\n",
    "Este gráfico muestra cómo ha variado la inversión en marketing mes a mes. Permite evaluar si los cambios en la inversión han tenido un impacto en la adquisición de clientes y en los ingresos generados.\n",
    "\n",
    "### Lo que se busca analizar\n",
    "- Identificar tendencias en el gasto publicitario a lo largo del tiempo.\n",
    "- Evaluar si hay aumentos o reducciones significativas en la inversión.\n",
    "- Relacionar la inversión en marketing con el desempeño en ventas y la conversión de usuarios.\n"
   ]
  },
  {
   "cell_type": "code",
   "execution_count": 11,
   "metadata": {
    "trusted": false
   },
   "outputs": [
    {
     "data": {
      "image/png": "[encoded data removed]",
      "text/plain": [
       "<Figure size 1000x500 with 1 Axes>"
      ]
     },
     "metadata": {},
     "output_type": "display_data"
    }
   ],
   "source": [
    "# Agrupar los datos por mes en lugar de días para mejorar la legibilidad\n",
    "costs_monthly = costs_data.resample(\"M\", on=\"dt\")[\"costs\"].sum()\n",
    "\n",
    "plt.figure(figsize=(10, 5))\n",
    "costs_monthly.plot(marker=\"o\", linestyle=\"-\", color=\"orange\")\n",
    "plt.title(\"Evolución del gasto en marketing a lo largo del tiempo (Agrupado por mes)\")\n",
    "plt.xlabel(\"Fecha\")\n",
    "plt.ylabel(\"Gasto en dólares\")\n",
    "plt.grid(True)\n",
    "plt.show()\n"
   ]
  },
  {
   "cell_type": "markdown",
   "metadata": {},
   "source": [
    "El gráfico muestra la evolución del gasto en marketing mes a mes, lo que permite identificar tendencias de inversión a lo largo del tiempo. Se observa un fuerte incremento entre agosto y diciembre, alcanzando su punto más alto en ese período. Posteriormente, hay una reducción progresiva en la inversión durante los primeros meses de 2018. Esto podría indicar una estrategia de mayor inversión a finales del año para captar clientes en temporadas clave, seguida de un ajuste en el presupuesto.\n",
    "\n",
    "La agrupación mensual ha permitido visualizar mejor la tendencia general, evitando la volatilidad diaria y facilitando la interpretación de los datos.\n"
   ]
  },
  {
   "cell_type": "markdown",
   "metadata": {},
   "source": [
    "## Conclusiones y Recomendaciones Estratégicas\n",
    "\n",
    "### Resumen del análisis\n",
    "Se ha realizado un análisis detallado del comportamiento de los usuarios en la plataforma Showz, evaluando las visitas, la conversión de clientes, las ventas y la rentabilidad del marketing. Los resultados han permitido identificar patrones clave y oportunidades de mejora.\n",
    "\n",
    "### Principales hallazgos\n",
    "\n",
    "#### Comportamiento de los usuarios\n",
    "- El número de usuarios únicos muestra una tendencia creciente, aunque la mayoría no regresa después de la primera visita.\n",
    "- La duración promedio de una sesión es de aproximadamente 10 minutos, lo que sugiere que los usuarios exploran la plataforma por un tiempo moderado antes de salir.\n",
    "- La conversión de usuarios ocurre mayormente en los primeros días, aunque hay un número significativo que tarda semanas o meses en realizar su primera compra.\n",
    "\n",
    "#### Ventas y conversión de clientes\n",
    "- El volumen de pedidos ha mostrado un crecimiento sostenido, con picos en ciertos meses.\n",
    "- El tamaño promedio de compra es bajo, alrededor de 5 dólares, lo que indica que los usuarios prefieren transacciones pequeñas y recurrentes.\n",
    "- El valor de por vida del cliente (LTV) es de 6.90 dólares, lo que sugiere que la mayoría de los clientes realizan solo una o dos compras antes de abandonar la plataforma.\n",
    "\n",
    "#### Rentabilidad del marketing\n",
    "- El gasto total en marketing fue de 329,131.62 dólares, con una fuerte concentración en la fuente 3.\n",
    "- El costo de adquisición de clientes (CAC) es de 9.01 dólares, lo que significa que cada nuevo cliente cuesta más de lo que genera en ingresos.\n",
    "- El retorno sobre la inversión en marketing (ROMI) es negativo (-23.4%), lo que indica que la estrategia actual no es sostenible financieramente.\n",
    "\n",
    "### Recomendaciones estratégicas\n",
    "\n",
    "#### Optimización del marketing\n",
    "1. **Reducir el costo de adquisición de clientes (CAC)**  \n",
    "   - Evaluar qué fuentes de adquisición generan clientes con mayor LTV y ajustar la inversión en función de su rentabilidad.\n",
    "   - Implementar estrategias de marketing orgánico y referidos para disminuir la dependencia de la publicidad paga.\n",
    "\n",
    "2. **Mejorar la retención de clientes y aumentar el LTV**  \n",
    "   - Implementar estrategias de fidelización como descuentos para compras recurrentes o membresías con beneficios exclusivos.\n",
    "   - Optimizar la experiencia del usuario en la plataforma para incentivar compras adicionales y reducir la tasa de abandono.\n",
    "\n",
    "3. **Ajustar la inversión publicitaria para mejorar el ROMI**  \n",
    "   - Redistribuir el presupuesto de marketing enfocándose en las fuentes de adquisición más rentables.\n",
    "   - Evaluar si las campañas de mayor inversión han generado un impacto positivo en la conversión.\n",
    "\n",
    "4. **Reducir el tiempo de conversión**  \n",
    "   - Implementar estrategias de remarketing para atraer a los usuarios que no convierten en su primera visita.\n",
    "   - Ofrecer incentivos como descuentos o promociones temporales para acelerar la conversión.\n",
    "\n",
    "### Conclusión\n",
    "El análisis sugiere que Showz debe reestructurar su estrategia de marketing y retención de clientes para mejorar la rentabilidad. Se recomienda optimizar el presupuesto de adquisición, mejorar la fidelización y reducir el tiempo de conversión con tácticas más efectivas.\n",
    "\n",
    "Estos cambios permitirán mejorar el retorno sobre la inversión y generar una base de clientes más sólida y rentable a largo plazo.\n"
   ]
  },
  {
   "cell_type": "code",
   "execution_count": null,
   "metadata": {
    "trusted": false
   },
   "outputs": [],
   "source": []
  }
 ],
 "metadata": {
  "ExecuteTimeLog": [
   {
    "duration": 862,
    "start_time": "2025-03-05T02:40:37.163Z"
   },
   {
    "duration": 561,
    "start_time": "2025-03-05T02:41:07.562Z"
   },
   {
    "duration": 494,
    "start_time": "2025-03-05T02:41:21.072Z"
   },
   {
    "duration": 64,
    "start_time": "2025-03-05T02:42:18.173Z"
   },
   {
    "duration": 16,
    "start_time": "2025-03-05T02:43:11.671Z"
   },
   {
    "duration": 834,
    "start_time": "2025-03-05T17:31:32.464Z"
   },
   {
    "duration": 61,
    "start_time": "2025-03-05T17:31:33.301Z"
   },
   {
    "duration": 19,
    "start_time": "2025-03-05T17:31:33.364Z"
   },
   {
    "duration": 652,
    "start_time": "2025-03-05T17:34:10.724Z"
   },
   {
    "duration": 8,
    "start_time": "2025-03-05T19:01:23.603Z"
   },
   {
    "duration": 160,
    "start_time": "2025-03-05T19:01:58.880Z"
   },
   {
    "duration": 835,
    "start_time": "2025-03-05T19:03:20.509Z"
   },
   {
    "duration": 59,
    "start_time": "2025-03-05T19:03:21.346Z"
   },
   {
    "duration": 17,
    "start_time": "2025-03-05T19:03:21.406Z"
   },
   {
    "duration": 666,
    "start_time": "2025-03-05T19:03:21.426Z"
   },
   {
    "duration": 36,
    "start_time": "2025-03-05T19:03:22.094Z"
   },
   {
    "duration": 167,
    "start_time": "2025-03-05T23:40:59.165Z"
   },
   {
    "duration": 865,
    "start_time": "2025-03-05T23:41:15.102Z"
   },
   {
    "duration": 64,
    "start_time": "2025-03-05T23:41:15.970Z"
   },
   {
    "duration": 15,
    "start_time": "2025-03-05T23:41:16.036Z"
   },
   {
    "duration": 681,
    "start_time": "2025-03-05T23:41:16.054Z"
   },
   {
    "duration": 71,
    "start_time": "2025-03-05T23:41:16.737Z"
   },
   {
    "duration": 6,
    "start_time": "2025-03-05T23:45:57.552Z"
   },
   {
    "duration": 918,
    "start_time": "2025-03-05T23:50:26.423Z"
   },
   {
    "duration": 52,
    "start_time": "2025-03-05T23:50:27.343Z"
   },
   {
    "duration": 17,
    "start_time": "2025-03-05T23:50:27.398Z"
   },
   {
    "duration": 702,
    "start_time": "2025-03-05T23:50:27.418Z"
   },
   {
    "duration": 67,
    "start_time": "2025-03-05T23:50:28.122Z"
   },
   {
    "duration": 11,
    "start_time": "2025-03-05T23:50:40.023Z"
   },
   {
    "duration": 2081,
    "start_time": "2025-03-05T23:56:45.382Z"
   },
   {
    "duration": 127,
    "start_time": "2025-03-05T23:59:24.502Z"
   },
   {
    "duration": 82,
    "start_time": "2025-03-06T00:00:30.692Z"
   },
   {
    "duration": 3262,
    "start_time": "2025-03-06T00:01:56.289Z"
   },
   {
    "duration": 161,
    "start_time": "2025-03-06T00:04:04.760Z"
   },
   {
    "duration": 711,
    "start_time": "2025-03-06T00:07:21.654Z"
   },
   {
    "duration": 177,
    "start_time": "2025-03-06T00:09:25.106Z"
   },
   {
    "duration": 147,
    "start_time": "2025-03-06T00:10:16.432Z"
   },
   {
    "duration": 943,
    "start_time": "2025-03-06T02:32:13.529Z"
   },
   {
    "duration": 44,
    "start_time": "2025-03-06T02:32:14.474Z"
   },
   {
    "duration": 16,
    "start_time": "2025-03-06T02:32:14.520Z"
   },
   {
    "duration": 679,
    "start_time": "2025-03-06T02:32:14.538Z"
   },
   {
    "duration": 69,
    "start_time": "2025-03-06T02:32:15.219Z"
   },
   {
    "duration": 9,
    "start_time": "2025-03-06T02:32:15.290Z"
   },
   {
    "duration": 173,
    "start_time": "2025-03-06T02:32:15.301Z"
   },
   {
    "duration": 144,
    "start_time": "2025-03-06T02:32:15.476Z"
   },
   {
    "duration": 90,
    "start_time": "2025-03-06T02:32:15.622Z"
   },
   {
    "duration": 771,
    "start_time": "2025-03-06T02:32:15.715Z"
   },
   {
    "duration": 161,
    "start_time": "2025-03-06T02:32:16.488Z"
   },
   {
    "duration": 3,
    "start_time": "2025-03-06T02:33:27.890Z"
   }
  ],
  "kernelspec": {
   "display_name": "Python 3 (ipykernel)",
   "language": "python",
   "name": "python3"
  },
  "language_info": {
   "codemirror_mode": {
    "name": "ipython",
    "version": 3
   },
   "file_extension": ".py",
   "mimetype": "text/x-python",
   "name": "python",
   "nbconvert_exporter": "python",
   "pygments_lexer": "ipython3",
   "version": "3.9.19"
  },
  "toc": {
   "base_numbering": 1,
   "nav_menu": {},
   "number_sections": true,
   "sideBar": true,
   "skip_h1_title": true,
   "title_cell": "Table of Contents",
   "title_sidebar": "Contents",
   "toc_cell": false,
   "toc_position": {
    "height": "calc(100% - 180px)",
    "left": "10px",
    "top": "150px",
    "width": "188.385px"
   },
   "toc_section_display": true,
   "toc_window_display": true
  }
 },
 "nbformat": 4,
 "nbformat_minor": 2
}
